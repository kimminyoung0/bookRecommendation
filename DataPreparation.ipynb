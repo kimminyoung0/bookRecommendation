{
 "cells": [
  {
   "cell_type": "code",
   "execution_count": 1,
   "id": "b6f597bf-a302-4871-a544-6e0127c8472a",
   "metadata": {},
   "outputs": [],
   "source": [
    "import pandas as pd\n",
    "import numpy as np\n",
    "from matplotlib import pyplot as plt\n",
    "import seaborn as sns"
   ]
  },
  {
   "cell_type": "code",
   "execution_count": 2,
   "id": "d584f071-715b-498b-bc8d-fae24f230887",
   "metadata": {},
   "outputs": [
    {
     "name": "stderr",
     "output_type": "stream",
     "text": [
      "/var/folders/rc/3jzqjhp56_v2qxb49fkb1x880000gn/T/ipykernel_98489/1375886182.py:1: DtypeWarning: Columns (3) have mixed types. Specify dtype option on import or set low_memory=False.\n",
      "  book = pd.read_csv('./data/Books.csv')\n"
     ]
    }
   ],
   "source": [
    "book = pd.read_csv('./data/Books.csv')\n",
    "rating = pd.read_csv('./data/Ratings.csv')\n",
    "user = pd.read_csv('./data/Users.csv')"
   ]
  },
  {
   "cell_type": "code",
   "execution_count": 3,
   "id": "0fa03cc1-d794-4af4-8721-15c40c2fffb6",
   "metadata": {},
   "outputs": [
    {
     "data": {
      "text/html": [
       "<div>\n",
       "<style scoped>\n",
       "    .dataframe tbody tr th:only-of-type {\n",
       "        vertical-align: middle;\n",
       "    }\n",
       "\n",
       "    .dataframe tbody tr th {\n",
       "        vertical-align: top;\n",
       "    }\n",
       "\n",
       "    .dataframe thead th {\n",
       "        text-align: right;\n",
       "    }\n",
       "</style>\n",
       "<table border=\"1\" class=\"dataframe\">\n",
       "  <thead>\n",
       "    <tr style=\"text-align: right;\">\n",
       "      <th></th>\n",
       "      <th>ISBN</th>\n",
       "      <th>Book-Title</th>\n",
       "      <th>Book-Author</th>\n",
       "      <th>Year-Of-Publication</th>\n",
       "      <th>Publisher</th>\n",
       "      <th>Image-URL-S</th>\n",
       "      <th>Image-URL-M</th>\n",
       "      <th>Image-URL-L</th>\n",
       "    </tr>\n",
       "  </thead>\n",
       "  <tbody>\n",
       "    <tr>\n",
       "      <th>0</th>\n",
       "      <td>0195153448</td>\n",
       "      <td>Classical Mythology</td>\n",
       "      <td>Mark P. O. Morford</td>\n",
       "      <td>2002</td>\n",
       "      <td>Oxford University Press</td>\n",
       "      <td>http://images.amazon.com/images/P/0195153448.0...</td>\n",
       "      <td>http://images.amazon.com/images/P/0195153448.0...</td>\n",
       "      <td>http://images.amazon.com/images/P/0195153448.0...</td>\n",
       "    </tr>\n",
       "    <tr>\n",
       "      <th>1</th>\n",
       "      <td>0002005018</td>\n",
       "      <td>Clara Callan</td>\n",
       "      <td>Richard Bruce Wright</td>\n",
       "      <td>2001</td>\n",
       "      <td>HarperFlamingo Canada</td>\n",
       "      <td>http://images.amazon.com/images/P/0002005018.0...</td>\n",
       "      <td>http://images.amazon.com/images/P/0002005018.0...</td>\n",
       "      <td>http://images.amazon.com/images/P/0002005018.0...</td>\n",
       "    </tr>\n",
       "    <tr>\n",
       "      <th>2</th>\n",
       "      <td>0060973129</td>\n",
       "      <td>Decision in Normandy</td>\n",
       "      <td>Carlo D'Este</td>\n",
       "      <td>1991</td>\n",
       "      <td>HarperPerennial</td>\n",
       "      <td>http://images.amazon.com/images/P/0060973129.0...</td>\n",
       "      <td>http://images.amazon.com/images/P/0060973129.0...</td>\n",
       "      <td>http://images.amazon.com/images/P/0060973129.0...</td>\n",
       "    </tr>\n",
       "    <tr>\n",
       "      <th>3</th>\n",
       "      <td>0374157065</td>\n",
       "      <td>Flu: The Story of the Great Influenza Pandemic...</td>\n",
       "      <td>Gina Bari Kolata</td>\n",
       "      <td>1999</td>\n",
       "      <td>Farrar Straus Giroux</td>\n",
       "      <td>http://images.amazon.com/images/P/0374157065.0...</td>\n",
       "      <td>http://images.amazon.com/images/P/0374157065.0...</td>\n",
       "      <td>http://images.amazon.com/images/P/0374157065.0...</td>\n",
       "    </tr>\n",
       "    <tr>\n",
       "      <th>4</th>\n",
       "      <td>0393045218</td>\n",
       "      <td>The Mummies of Urumchi</td>\n",
       "      <td>E. J. W. Barber</td>\n",
       "      <td>1999</td>\n",
       "      <td>W. W. Norton &amp;amp; Company</td>\n",
       "      <td>http://images.amazon.com/images/P/0393045218.0...</td>\n",
       "      <td>http://images.amazon.com/images/P/0393045218.0...</td>\n",
       "      <td>http://images.amazon.com/images/P/0393045218.0...</td>\n",
       "    </tr>\n",
       "  </tbody>\n",
       "</table>\n",
       "</div>"
      ],
      "text/plain": [
       "         ISBN                                         Book-Title  \\\n",
       "0  0195153448                                Classical Mythology   \n",
       "1  0002005018                                       Clara Callan   \n",
       "2  0060973129                               Decision in Normandy   \n",
       "3  0374157065  Flu: The Story of the Great Influenza Pandemic...   \n",
       "4  0393045218                             The Mummies of Urumchi   \n",
       "\n",
       "            Book-Author Year-Of-Publication                   Publisher  \\\n",
       "0    Mark P. O. Morford                2002     Oxford University Press   \n",
       "1  Richard Bruce Wright                2001       HarperFlamingo Canada   \n",
       "2          Carlo D'Este                1991             HarperPerennial   \n",
       "3      Gina Bari Kolata                1999        Farrar Straus Giroux   \n",
       "4       E. J. W. Barber                1999  W. W. Norton &amp; Company   \n",
       "\n",
       "                                         Image-URL-S  \\\n",
       "0  http://images.amazon.com/images/P/0195153448.0...   \n",
       "1  http://images.amazon.com/images/P/0002005018.0...   \n",
       "2  http://images.amazon.com/images/P/0060973129.0...   \n",
       "3  http://images.amazon.com/images/P/0374157065.0...   \n",
       "4  http://images.amazon.com/images/P/0393045218.0...   \n",
       "\n",
       "                                         Image-URL-M  \\\n",
       "0  http://images.amazon.com/images/P/0195153448.0...   \n",
       "1  http://images.amazon.com/images/P/0002005018.0...   \n",
       "2  http://images.amazon.com/images/P/0060973129.0...   \n",
       "3  http://images.amazon.com/images/P/0374157065.0...   \n",
       "4  http://images.amazon.com/images/P/0393045218.0...   \n",
       "\n",
       "                                         Image-URL-L  \n",
       "0  http://images.amazon.com/images/P/0195153448.0...  \n",
       "1  http://images.amazon.com/images/P/0002005018.0...  \n",
       "2  http://images.amazon.com/images/P/0060973129.0...  \n",
       "3  http://images.amazon.com/images/P/0374157065.0...  \n",
       "4  http://images.amazon.com/images/P/0393045218.0...  "
      ]
     },
     "execution_count": 3,
     "metadata": {},
     "output_type": "execute_result"
    }
   ],
   "source": [
    "book.head()"
   ]
  },
  {
   "cell_type": "code",
   "execution_count": 4,
   "id": "058eac9a-afd5-45ac-adc8-5821aea1901e",
   "metadata": {},
   "outputs": [
    {
     "data": {
      "text/plain": [
       "(271360, 8)"
      ]
     },
     "execution_count": 4,
     "metadata": {},
     "output_type": "execute_result"
    }
   ],
   "source": [
    "book.shape"
   ]
  },
  {
   "cell_type": "code",
   "execution_count": 5,
   "id": "29765adc-3f29-4332-ad50-73863378ea8d",
   "metadata": {},
   "outputs": [
    {
     "data": {
      "text/html": [
       "<div>\n",
       "<style scoped>\n",
       "    .dataframe tbody tr th:only-of-type {\n",
       "        vertical-align: middle;\n",
       "    }\n",
       "\n",
       "    .dataframe tbody tr th {\n",
       "        vertical-align: top;\n",
       "    }\n",
       "\n",
       "    .dataframe thead th {\n",
       "        text-align: right;\n",
       "    }\n",
       "</style>\n",
       "<table border=\"1\" class=\"dataframe\">\n",
       "  <thead>\n",
       "    <tr style=\"text-align: right;\">\n",
       "      <th></th>\n",
       "      <th>User-ID</th>\n",
       "      <th>ISBN</th>\n",
       "      <th>Book-Rating</th>\n",
       "    </tr>\n",
       "  </thead>\n",
       "  <tbody>\n",
       "    <tr>\n",
       "      <th>0</th>\n",
       "      <td>276725</td>\n",
       "      <td>034545104X</td>\n",
       "      <td>0</td>\n",
       "    </tr>\n",
       "    <tr>\n",
       "      <th>1</th>\n",
       "      <td>276726</td>\n",
       "      <td>0155061224</td>\n",
       "      <td>5</td>\n",
       "    </tr>\n",
       "    <tr>\n",
       "      <th>2</th>\n",
       "      <td>276727</td>\n",
       "      <td>0446520802</td>\n",
       "      <td>0</td>\n",
       "    </tr>\n",
       "    <tr>\n",
       "      <th>3</th>\n",
       "      <td>276729</td>\n",
       "      <td>052165615X</td>\n",
       "      <td>3</td>\n",
       "    </tr>\n",
       "    <tr>\n",
       "      <th>4</th>\n",
       "      <td>276729</td>\n",
       "      <td>0521795028</td>\n",
       "      <td>6</td>\n",
       "    </tr>\n",
       "  </tbody>\n",
       "</table>\n",
       "</div>"
      ],
      "text/plain": [
       "   User-ID        ISBN  Book-Rating\n",
       "0   276725  034545104X            0\n",
       "1   276726  0155061224            5\n",
       "2   276727  0446520802            0\n",
       "3   276729  052165615X            3\n",
       "4   276729  0521795028            6"
      ]
     },
     "execution_count": 5,
     "metadata": {},
     "output_type": "execute_result"
    }
   ],
   "source": [
    "rating.head()"
   ]
  },
  {
   "cell_type": "code",
   "execution_count": 95,
   "id": "bb383ed1-2e6d-4945-a666-6e8cef82b1a9",
   "metadata": {},
   "outputs": [
    {
     "data": {
      "text/plain": [
       "(1149780, 3)"
      ]
     },
     "execution_count": 95,
     "metadata": {},
     "output_type": "execute_result"
    }
   ],
   "source": [
    "rating.shape"
   ]
  },
  {
   "cell_type": "code",
   "execution_count": 96,
   "id": "e7b72e1d-8239-45c5-8c0c-4899ddfb48f2",
   "metadata": {},
   "outputs": [
    {
     "data": {
      "text/html": [
       "<div>\n",
       "<style scoped>\n",
       "    .dataframe tbody tr th:only-of-type {\n",
       "        vertical-align: middle;\n",
       "    }\n",
       "\n",
       "    .dataframe tbody tr th {\n",
       "        vertical-align: top;\n",
       "    }\n",
       "\n",
       "    .dataframe thead th {\n",
       "        text-align: right;\n",
       "    }\n",
       "</style>\n",
       "<table border=\"1\" class=\"dataframe\">\n",
       "  <thead>\n",
       "    <tr style=\"text-align: right;\">\n",
       "      <th></th>\n",
       "      <th>User-ID</th>\n",
       "      <th>Location</th>\n",
       "      <th>Age</th>\n",
       "    </tr>\n",
       "  </thead>\n",
       "  <tbody>\n",
       "    <tr>\n",
       "      <th>0</th>\n",
       "      <td>1</td>\n",
       "      <td>nyc, new york, usa</td>\n",
       "      <td>NaN</td>\n",
       "    </tr>\n",
       "    <tr>\n",
       "      <th>1</th>\n",
       "      <td>2</td>\n",
       "      <td>stockton, california, usa</td>\n",
       "      <td>18.0</td>\n",
       "    </tr>\n",
       "    <tr>\n",
       "      <th>2</th>\n",
       "      <td>3</td>\n",
       "      <td>moscow, yukon territory, russia</td>\n",
       "      <td>NaN</td>\n",
       "    </tr>\n",
       "    <tr>\n",
       "      <th>3</th>\n",
       "      <td>4</td>\n",
       "      <td>porto, v.n.gaia, portugal</td>\n",
       "      <td>17.0</td>\n",
       "    </tr>\n",
       "    <tr>\n",
       "      <th>4</th>\n",
       "      <td>5</td>\n",
       "      <td>farnborough, hants, united kingdom</td>\n",
       "      <td>NaN</td>\n",
       "    </tr>\n",
       "    <tr>\n",
       "      <th>...</th>\n",
       "      <td>...</td>\n",
       "      <td>...</td>\n",
       "      <td>...</td>\n",
       "    </tr>\n",
       "    <tr>\n",
       "      <th>278853</th>\n",
       "      <td>278854</td>\n",
       "      <td>portland, oregon, usa</td>\n",
       "      <td>NaN</td>\n",
       "    </tr>\n",
       "    <tr>\n",
       "      <th>278854</th>\n",
       "      <td>278855</td>\n",
       "      <td>tacoma, washington, united kingdom</td>\n",
       "      <td>50.0</td>\n",
       "    </tr>\n",
       "    <tr>\n",
       "      <th>278855</th>\n",
       "      <td>278856</td>\n",
       "      <td>brampton, ontario, canada</td>\n",
       "      <td>NaN</td>\n",
       "    </tr>\n",
       "    <tr>\n",
       "      <th>278856</th>\n",
       "      <td>278857</td>\n",
       "      <td>knoxville, tennessee, usa</td>\n",
       "      <td>NaN</td>\n",
       "    </tr>\n",
       "    <tr>\n",
       "      <th>278857</th>\n",
       "      <td>278858</td>\n",
       "      <td>dublin, n/a, ireland</td>\n",
       "      <td>NaN</td>\n",
       "    </tr>\n",
       "  </tbody>\n",
       "</table>\n",
       "<p>278858 rows × 3 columns</p>\n",
       "</div>"
      ],
      "text/plain": [
       "        User-ID                            Location   Age\n",
       "0             1                  nyc, new york, usa   NaN\n",
       "1             2           stockton, california, usa  18.0\n",
       "2             3     moscow, yukon territory, russia   NaN\n",
       "3             4           porto, v.n.gaia, portugal  17.0\n",
       "4             5  farnborough, hants, united kingdom   NaN\n",
       "...         ...                                 ...   ...\n",
       "278853   278854               portland, oregon, usa   NaN\n",
       "278854   278855  tacoma, washington, united kingdom  50.0\n",
       "278855   278856           brampton, ontario, canada   NaN\n",
       "278856   278857           knoxville, tennessee, usa   NaN\n",
       "278857   278858                dublin, n/a, ireland   NaN\n",
       "\n",
       "[278858 rows x 3 columns]"
      ]
     },
     "execution_count": 96,
     "metadata": {},
     "output_type": "execute_result"
    }
   ],
   "source": [
    "user"
   ]
  },
  {
   "cell_type": "markdown",
   "id": "2b54b6b5-84f3-4029-a267-3b3379ae6fd4",
   "metadata": {},
   "source": [
    "book 살펴보기"
   ]
  },
  {
   "cell_type": "code",
   "execution_count": 55,
   "id": "bf98a791-a38e-49c6-9a9f-bcf19b6c60da",
   "metadata": {
    "scrolled": true
   },
   "outputs": [
    {
     "data": {
      "text/plain": [
       "[0.0,\n",
       " 1376.0,\n",
       " 1378.0,\n",
       " 1806.0,\n",
       " 1897.0,\n",
       " 1900.0,\n",
       " 1901.0,\n",
       " 1902.0,\n",
       " 1904.0,\n",
       " 1906.0,\n",
       " 1908.0,\n",
       " 1909.0,\n",
       " 1910.0,\n",
       " 1911.0,\n",
       " 1914.0,\n",
       " 1917.0,\n",
       " 1919.0,\n",
       " 1920.0,\n",
       " 1921.0,\n",
       " 1922.0,\n",
       " 1923.0,\n",
       " 1924.0,\n",
       " 1925.0,\n",
       " 1926.0,\n",
       " 1927.0,\n",
       " 1928.0,\n",
       " 1929.0,\n",
       " 1930.0,\n",
       " 1931.0,\n",
       " 1932.0,\n",
       " 1933.0,\n",
       " 1934.0,\n",
       " 1935.0,\n",
       " 1936.0,\n",
       " 1937.0,\n",
       " 1938.0,\n",
       " 1939.0,\n",
       " 1940.0,\n",
       " 1941.0,\n",
       " 1942.0,\n",
       " 1943.0,\n",
       " 1944.0,\n",
       " 1945.0,\n",
       " 1946.0,\n",
       " 1947.0,\n",
       " 1948.0,\n",
       " 1949.0,\n",
       " 1950.0,\n",
       " 1951.0,\n",
       " 1952.0,\n",
       " 1953.0,\n",
       " 1954.0,\n",
       " 1955.0,\n",
       " 1956.0,\n",
       " 1957.0,\n",
       " 1958.0,\n",
       " 1959.0,\n",
       " 1960.0,\n",
       " 1961.0,\n",
       " 1962.0,\n",
       " 1963.0,\n",
       " 1964.0,\n",
       " 1965.0,\n",
       " 1966.0,\n",
       " 1967.0,\n",
       " 1968.0,\n",
       " 1969.0,\n",
       " 1970.0,\n",
       " 1971.0,\n",
       " 1972.0,\n",
       " 1973.0,\n",
       " 1974.0,\n",
       " 1975.0,\n",
       " 1976.0,\n",
       " 1977.0,\n",
       " 1978.0,\n",
       " 1979.0,\n",
       " 1980.0,\n",
       " 1981.0,\n",
       " 1982.0,\n",
       " 1983.0,\n",
       " 1984.0,\n",
       " 1985.0,\n",
       " 1986.0,\n",
       " 1987.0,\n",
       " 1988.0,\n",
       " 1989.0,\n",
       " 1990.0,\n",
       " 1991.0,\n",
       " 1992.0,\n",
       " 1993.0,\n",
       " 1994.0,\n",
       " 1995.0,\n",
       " 1996.0,\n",
       " 1997.0,\n",
       " 1998.0,\n",
       " 1999.0,\n",
       " 2000.0,\n",
       " 2001.0,\n",
       " 2002.0,\n",
       " 2003.0,\n",
       " 2004.0,\n",
       " 2005.0,\n",
       " 2006.0,\n",
       " 2008.0,\n",
       " 2010.0,\n",
       " 2011.0,\n",
       " 2012.0,\n",
       " 2020.0,\n",
       " 2021.0,\n",
       " 2024.0,\n",
       " 2026.0,\n",
       " 2030.0,\n",
       " 2037.0,\n",
       " 2038.0,\n",
       " 2050.0,\n",
       " nan]"
      ]
     },
     "execution_count": 55,
     "metadata": {},
     "output_type": "execute_result"
    }
   ],
   "source": [
    "sorted_bookYear = sorted(book['Year-Of-Publication'].unique())\n",
    "sorted_bookYear"
   ]
  },
  {
   "cell_type": "code",
   "execution_count": 58,
   "id": "f2123e7c-e310-4c0a-823b-99ff72fad352",
   "metadata": {},
   "outputs": [
    {
     "data": {
      "text/plain": [
       "2050.0"
      ]
     },
     "execution_count": 58,
     "metadata": {},
     "output_type": "execute_result"
    }
   ],
   "source": [
    "max(sorted_bookYear)"
   ]
  },
  {
   "cell_type": "code",
   "execution_count": 19,
   "id": "68eb6eca-120a-42bb-a1b7-c98360e860fa",
   "metadata": {},
   "outputs": [
    {
     "name": "stdout",
     "output_type": "stream",
     "text": [
      "최소 연도: 0.0\n",
      "최대 연도: 2050.0\n"
     ]
    }
   ],
   "source": [
    "import pandas as pd\n",
    "\n",
    "year_of_pub_numeric = pd.to_numeric(book['Year-Of-Publication'], errors='coerce')\n",
    "\n",
    "valid_years = year_of_pub_numeric.dropna()\n",
    "if not valid_years.empty:\n",
    "    min_year = valid_years.min()\n",
    "    max_year = valid_years.max()\n",
    "    print(\"최소 연도:\", min_year)\n",
    "    print(\"최대 연도:\", max_year)\n",
    "else:\n",
    "    print(\"유효한 연도 데이터가 없습니다.\")"
   ]
  },
  {
   "cell_type": "code",
   "execution_count": 50,
   "id": "c7625568-c4de-4b5a-b12f-35ee75fcc303",
   "metadata": {},
   "outputs": [
    {
     "data": {
      "image/png": "[encoded data removed]",
      "text/plain": [
       "<Figure size 1000x600 with 1 Axes>"
      ]
     },
     "metadata": {},
     "output_type": "display_data"
    }
   ],
   "source": [
    "import pandas as pd\n",
    "import matplotlib.pyplot as plt\n",
    "\n",
    "book['Year-Of-Publication'] = pd.to_numeric(book['Year-Of-Publication'], errors='coerce')\n",
    "\n",
    "year_counts = book.groupby('Year-Of-Publication').size()\n",
    "\n",
    "plt.figure(figsize=(10, 6))\n",
    "year_counts.plot(kind='bar')\n",
    "plt.title('Number of Books by Year of Publication')\n",
    "plt.xlabel('Year of Publication')\n",
    "plt.ylabel('Number of Books')\n",
    "plt.xticks(rotation=60)\n",
    "plt.tight_layout()\n",
    "plt.show()"
   ]
  },
  {
   "cell_type": "code",
   "execution_count": 36,
   "id": "82094180-4967-4754-8e03-db9d4acbf06b",
   "metadata": {},
   "outputs": [
    {
     "data": {
      "text/plain": [
       "531794816.0"
      ]
     },
     "execution_count": 36,
     "metadata": {},
     "output_type": "execute_result"
    }
   ],
   "source": [
    "book['Year-Of-Publication'].sum()"
   ]
  },
  {
   "cell_type": "code",
   "execution_count": 47,
   "id": "f3a614e7-2cba-42dc-9c63-c0d24a124de4",
   "metadata": {},
   "outputs": [],
   "source": [
    "book['Year-Of-Publication'] = pd.to_numeric(book['Year-Of-Publication'], errors='ignore')\n",
    "book_copy= book.copy()\n",
    "year_counts = book_copy.groupby('Year-Of-Publication').size()\n",
    "except1 = year_counts[year_counts > 1]"
   ]
  },
  {
   "cell_type": "code",
   "execution_count": 48,
   "id": "4c93e160-866b-4467-a63b-3eb6164a32d2",
   "metadata": {},
   "outputs": [
    {
     "data": {
      "text/plain": [
       "Year-Of-Publication\n",
       "0.0       4618\n",
       "1900.0       3\n",
       "1901.0       7\n",
       "1902.0       2\n",
       "1909.0       2\n",
       "          ... \n",
       "2010.0       2\n",
       "2011.0       2\n",
       "2020.0       3\n",
       "2030.0       7\n",
       "2050.0       2\n",
       "Length: 97, dtype: int64"
      ]
     },
     "execution_count": 48,
     "metadata": {},
     "output_type": "execute_result"
    }
   ],
   "source": [
    "except1"
   ]
  },
  {
   "cell_type": "code",
   "execution_count": 42,
   "id": "caa7339f-c02d-4b7e-b0de-d8d882868ae8",
   "metadata": {},
   "outputs": [
    {
     "data": {
      "image/png": "[encoded data removed]",
      "text/plain": [
       "<Figure size 1000x600 with 1 Axes>"
      ]
     },
     "metadata": {},
     "output_type": "display_data"
    }
   ],
   "source": [
    "plt.figure(figsize=(10, 6))\n",
    "except1.plot(kind='bar')\n",
    "plt.title('Number of Books by Year of Publication')\n",
    "plt.xlabel('Year of Publication')\n",
    "plt.ylabel('Number of Books')\n",
    "plt.xticks(rotation=60)\n",
    "plt.tight_layout()\n",
    "plt.show()"
   ]
  },
  {
   "cell_type": "code",
   "execution_count": 28,
   "id": "f5b13da5-e880-4a48-9dc6-446d955ea136",
   "metadata": {},
   "outputs": [
    {
     "data": {
      "text/html": [
       "<div>\n",
       "<style scoped>\n",
       "    .dataframe tbody tr th:only-of-type {\n",
       "        vertical-align: middle;\n",
       "    }\n",
       "\n",
       "    .dataframe tbody tr th {\n",
       "        vertical-align: top;\n",
       "    }\n",
       "\n",
       "    .dataframe thead th {\n",
       "        text-align: right;\n",
       "    }\n",
       "</style>\n",
       "<table border=\"1\" class=\"dataframe\">\n",
       "  <thead>\n",
       "    <tr style=\"text-align: right;\">\n",
       "      <th></th>\n",
       "      <th>ISBN</th>\n",
       "      <th>Book-Title</th>\n",
       "      <th>Book-Author</th>\n",
       "      <th>Year-Of-Publication</th>\n",
       "      <th>Publisher</th>\n",
       "      <th>Image-URL-S</th>\n",
       "      <th>Image-URL-M</th>\n",
       "      <th>Image-URL-L</th>\n",
       "    </tr>\n",
       "  </thead>\n",
       "  <tbody>\n",
       "    <tr>\n",
       "      <th>253750</th>\n",
       "      <td>964442011X</td>\n",
       "      <td>Tasht-i khun</td>\n",
       "      <td>IsmaÂ°il Fasih</td>\n",
       "      <td>1376.0</td>\n",
       "      <td>Nashr-i Alburz</td>\n",
       "      <td>http://images.amazon.com/images/P/964442011X.0...</td>\n",
       "      <td>http://images.amazon.com/images/P/964442011X.0...</td>\n",
       "      <td>http://images.amazon.com/images/P/964442011X.0...</td>\n",
       "    </tr>\n",
       "  </tbody>\n",
       "</table>\n",
       "</div>"
      ],
      "text/plain": [
       "              ISBN    Book-Title     Book-Author  Year-Of-Publication  \\\n",
       "253750  964442011X  Tasht-i khun  IsmaÂ°il Fasih               1376.0   \n",
       "\n",
       "             Publisher                                        Image-URL-S  \\\n",
       "253750  Nashr-i Alburz  http://images.amazon.com/images/P/964442011X.0...   \n",
       "\n",
       "                                              Image-URL-M  \\\n",
       "253750  http://images.amazon.com/images/P/964442011X.0...   \n",
       "\n",
       "                                              Image-URL-L  \n",
       "253750  http://images.amazon.com/images/P/964442011X.0...  "
      ]
     },
     "execution_count": 28,
     "metadata": {},
     "output_type": "execute_result"
    }
   ],
   "source": [
    "book[book['Year-Of-Publication'] == 1376]"
   ]
  },
  {
   "cell_type": "code",
   "execution_count": 49,
   "id": "4ca339c1-e246-4722-ae1d-b9eb04e89343",
   "metadata": {},
   "outputs": [
    {
     "data": {
      "text/html": [
       "<div>\n",
       "<style scoped>\n",
       "    .dataframe tbody tr th:only-of-type {\n",
       "        vertical-align: middle;\n",
       "    }\n",
       "\n",
       "    .dataframe tbody tr th {\n",
       "        vertical-align: top;\n",
       "    }\n",
       "\n",
       "    .dataframe thead th {\n",
       "        text-align: right;\n",
       "    }\n",
       "</style>\n",
       "<table border=\"1\" class=\"dataframe\">\n",
       "  <thead>\n",
       "    <tr style=\"text-align: right;\">\n",
       "      <th></th>\n",
       "      <th>ISBN</th>\n",
       "      <th>Book-Title</th>\n",
       "      <th>Book-Author</th>\n",
       "      <th>Year-Of-Publication</th>\n",
       "      <th>Publisher</th>\n",
       "      <th>Image-URL-S</th>\n",
       "      <th>Image-URL-M</th>\n",
       "      <th>Image-URL-L</th>\n",
       "    </tr>\n",
       "  </thead>\n",
       "  <tbody>\n",
       "    <tr>\n",
       "      <th>80264</th>\n",
       "      <td>0140301690</td>\n",
       "      <td>Alice's Adventures in Wonderland and Through t...</td>\n",
       "      <td>Lewis Carroll</td>\n",
       "      <td>2050.0</td>\n",
       "      <td>Puffin Books</td>\n",
       "      <td>http://images.amazon.com/images/P/0140301690.0...</td>\n",
       "      <td>http://images.amazon.com/images/P/0140301690.0...</td>\n",
       "      <td>http://images.amazon.com/images/P/0140301690.0...</td>\n",
       "    </tr>\n",
       "    <tr>\n",
       "      <th>97826</th>\n",
       "      <td>0140201092</td>\n",
       "      <td>Outline of European Architecture (Pelican S.)</td>\n",
       "      <td>Nikolaus Pevsner</td>\n",
       "      <td>2050.0</td>\n",
       "      <td>Penguin USA</td>\n",
       "      <td>http://images.amazon.com/images/P/0140201092.0...</td>\n",
       "      <td>http://images.amazon.com/images/P/0140201092.0...</td>\n",
       "      <td>http://images.amazon.com/images/P/0140201092.0...</td>\n",
       "    </tr>\n",
       "  </tbody>\n",
       "</table>\n",
       "</div>"
      ],
      "text/plain": [
       "             ISBN                                         Book-Title  \\\n",
       "80264  0140301690  Alice's Adventures in Wonderland and Through t...   \n",
       "97826  0140201092      Outline of European Architecture (Pelican S.)   \n",
       "\n",
       "            Book-Author  Year-Of-Publication     Publisher  \\\n",
       "80264     Lewis Carroll               2050.0  Puffin Books   \n",
       "97826  Nikolaus Pevsner               2050.0   Penguin USA   \n",
       "\n",
       "                                             Image-URL-S  \\\n",
       "80264  http://images.amazon.com/images/P/0140301690.0...   \n",
       "97826  http://images.amazon.com/images/P/0140201092.0...   \n",
       "\n",
       "                                             Image-URL-M  \\\n",
       "80264  http://images.amazon.com/images/P/0140301690.0...   \n",
       "97826  http://images.amazon.com/images/P/0140201092.0...   \n",
       "\n",
       "                                             Image-URL-L  \n",
       "80264  http://images.amazon.com/images/P/0140301690.0...  \n",
       "97826  http://images.amazon.com/images/P/0140201092.0...  "
      ]
     },
     "execution_count": 49,
     "metadata": {},
     "output_type": "execute_result"
    }
   ],
   "source": [
    "book[book['Year-Of-Publication'] == 2050] #검색해보니 1971년도 출판 /  1950년 출판"
   ]
  },
  {
   "cell_type": "code",
   "execution_count": 21,
   "id": "2d2b8aa4-0246-426c-a90e-69185117393e",
   "metadata": {},
   "outputs": [
    {
     "data": {
      "text/plain": [
       "Year-Of-Publication\n",
       "0.0       4618\n",
       "1376.0       1\n",
       "1378.0       1\n",
       "1806.0       1\n",
       "1897.0       1\n",
       "          ... \n",
       "2026.0       1\n",
       "2030.0       7\n",
       "2037.0       1\n",
       "2038.0       1\n",
       "2050.0       2\n",
       "Length: 116, dtype: int64"
      ]
     },
     "execution_count": 21,
     "metadata": {},
     "output_type": "execute_result"
    }
   ],
   "source": [
    "year_counts"
   ]
  },
  {
   "cell_type": "code",
   "execution_count": null,
   "id": "dbe2ed3c-0aed-49d3-bc76-796b681ace10",
   "metadata": {},
   "outputs": [],
   "source": []
  },
  {
   "cell_type": "code",
   "execution_count": null,
   "id": "35626a81-60be-44df-af92-e5b8f327c958",
   "metadata": {},
   "outputs": [],
   "source": []
  },
  {
   "cell_type": "code",
   "execution_count": null,
   "id": "aa435231-0137-4615-a921-1090fb2035de",
   "metadata": {},
   "outputs": [],
   "source": [
    "image download"
   ]
  },
  {
   "cell_type": "code",
   "execution_count": 64,
   "id": "4127ac4f-b788-4afb-856b-75537f58186d",
   "metadata": {},
   "outputs": [
    {
     "data": {
      "text/plain": [
       "271360"
      ]
     },
     "execution_count": 64,
     "metadata": {},
     "output_type": "execute_result"
    }
   ],
   "source": [
    "len(book['ISBN'].unique())"
   ]
  },
  {
   "cell_type": "code",
   "execution_count": 89,
   "id": "491964f9-32a1-48dd-aa4b-60a2a5b98100",
   "metadata": {},
   "outputs": [
    {
     "ename": "HTTPError",
     "evalue": "HTTP Error 404: Not Found",
     "output_type": "error",
     "traceback": [
      "\u001b[0;31m---------------------------------------------------------------------------\u001b[0m",
      "\u001b[0;31mHTTPError\u001b[0m                                 Traceback (most recent call last)",
      "Cell \u001b[0;32mIn[89], line 11\u001b[0m\n\u001b[1;32m      8\u001b[0m headers \u001b[38;5;241m=\u001b[39m {\u001b[38;5;124m'\u001b[39m\u001b[38;5;124mUser-Agent\u001b[39m\u001b[38;5;124m'\u001b[39m: user_agent}\n\u001b[1;32m     10\u001b[0m req \u001b[38;5;241m=\u001b[39m urllib\u001b[38;5;241m.\u001b[39mrequest\u001b[38;5;241m.\u001b[39mRequest(url, headers\u001b[38;5;241m=\u001b[39mheaders)\n\u001b[0;32m---> 11\u001b[0m response \u001b[38;5;241m=\u001b[39m \u001b[43murllib\u001b[49m\u001b[38;5;241;43m.\u001b[39;49m\u001b[43mrequest\u001b[49m\u001b[38;5;241;43m.\u001b[39;49m\u001b[43murlopen\u001b[49m\u001b[43m(\u001b[49m\u001b[43mreq\u001b[49m\u001b[43m)\u001b[49m\n\u001b[1;32m     13\u001b[0m \u001b[38;5;28;01mwith\u001b[39;00m \u001b[38;5;28mopen\u001b[39m(\u001b[38;5;124mf\u001b[39m\u001b[38;5;124m\"\u001b[39m\u001b[38;5;124m./image/\u001b[39m\u001b[38;5;132;01m{\u001b[39;00mrow[\u001b[38;5;124m'\u001b[39m\u001b[38;5;124mISBN\u001b[39m\u001b[38;5;124m'\u001b[39m]\u001b[38;5;132;01m}\u001b[39;00m\u001b[38;5;124m.jpg\u001b[39m\u001b[38;5;124m\"\u001b[39m, \u001b[38;5;124m\"\u001b[39m\u001b[38;5;124mwb\u001b[39m\u001b[38;5;124m\"\u001b[39m) \u001b[38;5;28;01mas\u001b[39;00m f:\n\u001b[1;32m     14\u001b[0m     f\u001b[38;5;241m.\u001b[39mwrite(response\u001b[38;5;241m.\u001b[39mread())\n",
      "File \u001b[0;32m~/opt/anaconda3/envs/bookrec/lib/python3.8/urllib/request.py:222\u001b[0m, in \u001b[0;36murlopen\u001b[0;34m(url, data, timeout, cafile, capath, cadefault, context)\u001b[0m\n\u001b[1;32m    220\u001b[0m \u001b[38;5;28;01melse\u001b[39;00m:\n\u001b[1;32m    221\u001b[0m     opener \u001b[38;5;241m=\u001b[39m _opener\n\u001b[0;32m--> 222\u001b[0m \u001b[38;5;28;01mreturn\u001b[39;00m \u001b[43mopener\u001b[49m\u001b[38;5;241;43m.\u001b[39;49m\u001b[43mopen\u001b[49m\u001b[43m(\u001b[49m\u001b[43murl\u001b[49m\u001b[43m,\u001b[49m\u001b[43m \u001b[49m\u001b[43mdata\u001b[49m\u001b[43m,\u001b[49m\u001b[43m \u001b[49m\u001b[43mtimeout\u001b[49m\u001b[43m)\u001b[49m\n",
      "File \u001b[0;32m~/opt/anaconda3/envs/bookrec/lib/python3.8/urllib/request.py:531\u001b[0m, in \u001b[0;36mOpenerDirector.open\u001b[0;34m(self, fullurl, data, timeout)\u001b[0m\n\u001b[1;32m    529\u001b[0m \u001b[38;5;28;01mfor\u001b[39;00m processor \u001b[38;5;129;01min\u001b[39;00m \u001b[38;5;28mself\u001b[39m\u001b[38;5;241m.\u001b[39mprocess_response\u001b[38;5;241m.\u001b[39mget(protocol, []):\n\u001b[1;32m    530\u001b[0m     meth \u001b[38;5;241m=\u001b[39m \u001b[38;5;28mgetattr\u001b[39m(processor, meth_name)\n\u001b[0;32m--> 531\u001b[0m     response \u001b[38;5;241m=\u001b[39m \u001b[43mmeth\u001b[49m\u001b[43m(\u001b[49m\u001b[43mreq\u001b[49m\u001b[43m,\u001b[49m\u001b[43m \u001b[49m\u001b[43mresponse\u001b[49m\u001b[43m)\u001b[49m\n\u001b[1;32m    533\u001b[0m \u001b[38;5;28;01mreturn\u001b[39;00m response\n",
      "File \u001b[0;32m~/opt/anaconda3/envs/bookrec/lib/python3.8/urllib/request.py:640\u001b[0m, in \u001b[0;36mHTTPErrorProcessor.http_response\u001b[0;34m(self, request, response)\u001b[0m\n\u001b[1;32m    637\u001b[0m \u001b[38;5;66;03m# According to RFC 2616, \"2xx\" code indicates that the client's\u001b[39;00m\n\u001b[1;32m    638\u001b[0m \u001b[38;5;66;03m# request was successfully received, understood, and accepted.\u001b[39;00m\n\u001b[1;32m    639\u001b[0m \u001b[38;5;28;01mif\u001b[39;00m \u001b[38;5;129;01mnot\u001b[39;00m (\u001b[38;5;241m200\u001b[39m \u001b[38;5;241m<\u001b[39m\u001b[38;5;241m=\u001b[39m code \u001b[38;5;241m<\u001b[39m \u001b[38;5;241m300\u001b[39m):\n\u001b[0;32m--> 640\u001b[0m     response \u001b[38;5;241m=\u001b[39m \u001b[38;5;28;43mself\u001b[39;49m\u001b[38;5;241;43m.\u001b[39;49m\u001b[43mparent\u001b[49m\u001b[38;5;241;43m.\u001b[39;49m\u001b[43merror\u001b[49m\u001b[43m(\u001b[49m\n\u001b[1;32m    641\u001b[0m \u001b[43m        \u001b[49m\u001b[38;5;124;43m'\u001b[39;49m\u001b[38;5;124;43mhttp\u001b[39;49m\u001b[38;5;124;43m'\u001b[39;49m\u001b[43m,\u001b[49m\u001b[43m \u001b[49m\u001b[43mrequest\u001b[49m\u001b[43m,\u001b[49m\u001b[43m \u001b[49m\u001b[43mresponse\u001b[49m\u001b[43m,\u001b[49m\u001b[43m \u001b[49m\u001b[43mcode\u001b[49m\u001b[43m,\u001b[49m\u001b[43m \u001b[49m\u001b[43mmsg\u001b[49m\u001b[43m,\u001b[49m\u001b[43m \u001b[49m\u001b[43mhdrs\u001b[49m\u001b[43m)\u001b[49m\n\u001b[1;32m    643\u001b[0m \u001b[38;5;28;01mreturn\u001b[39;00m response\n",
      "File \u001b[0;32m~/opt/anaconda3/envs/bookrec/lib/python3.8/urllib/request.py:569\u001b[0m, in \u001b[0;36mOpenerDirector.error\u001b[0;34m(self, proto, *args)\u001b[0m\n\u001b[1;32m    567\u001b[0m \u001b[38;5;28;01mif\u001b[39;00m http_err:\n\u001b[1;32m    568\u001b[0m     args \u001b[38;5;241m=\u001b[39m (\u001b[38;5;28mdict\u001b[39m, \u001b[38;5;124m'\u001b[39m\u001b[38;5;124mdefault\u001b[39m\u001b[38;5;124m'\u001b[39m, \u001b[38;5;124m'\u001b[39m\u001b[38;5;124mhttp_error_default\u001b[39m\u001b[38;5;124m'\u001b[39m) \u001b[38;5;241m+\u001b[39m orig_args\n\u001b[0;32m--> 569\u001b[0m     \u001b[38;5;28;01mreturn\u001b[39;00m \u001b[38;5;28;43mself\u001b[39;49m\u001b[38;5;241;43m.\u001b[39;49m\u001b[43m_call_chain\u001b[49m\u001b[43m(\u001b[49m\u001b[38;5;241;43m*\u001b[39;49m\u001b[43margs\u001b[49m\u001b[43m)\u001b[49m\n",
      "File \u001b[0;32m~/opt/anaconda3/envs/bookrec/lib/python3.8/urllib/request.py:502\u001b[0m, in \u001b[0;36mOpenerDirector._call_chain\u001b[0;34m(self, chain, kind, meth_name, *args)\u001b[0m\n\u001b[1;32m    500\u001b[0m \u001b[38;5;28;01mfor\u001b[39;00m handler \u001b[38;5;129;01min\u001b[39;00m handlers:\n\u001b[1;32m    501\u001b[0m     func \u001b[38;5;241m=\u001b[39m \u001b[38;5;28mgetattr\u001b[39m(handler, meth_name)\n\u001b[0;32m--> 502\u001b[0m     result \u001b[38;5;241m=\u001b[39m \u001b[43mfunc\u001b[49m\u001b[43m(\u001b[49m\u001b[38;5;241;43m*\u001b[39;49m\u001b[43margs\u001b[49m\u001b[43m)\u001b[49m\n\u001b[1;32m    503\u001b[0m     \u001b[38;5;28;01mif\u001b[39;00m result \u001b[38;5;129;01mis\u001b[39;00m \u001b[38;5;129;01mnot\u001b[39;00m \u001b[38;5;28;01mNone\u001b[39;00m:\n\u001b[1;32m    504\u001b[0m         \u001b[38;5;28;01mreturn\u001b[39;00m result\n",
      "File \u001b[0;32m~/opt/anaconda3/envs/bookrec/lib/python3.8/urllib/request.py:649\u001b[0m, in \u001b[0;36mHTTPDefaultErrorHandler.http_error_default\u001b[0;34m(self, req, fp, code, msg, hdrs)\u001b[0m\n\u001b[1;32m    648\u001b[0m \u001b[38;5;28;01mdef\u001b[39;00m \u001b[38;5;21mhttp_error_default\u001b[39m(\u001b[38;5;28mself\u001b[39m, req, fp, code, msg, hdrs):\n\u001b[0;32m--> 649\u001b[0m     \u001b[38;5;28;01mraise\u001b[39;00m HTTPError(req\u001b[38;5;241m.\u001b[39mfull_url, code, msg, hdrs, fp)\n",
      "\u001b[0;31mHTTPError\u001b[0m: HTTP Error 404: Not Found"
     ]
    }
   ],
   "source": [
    "import urllib.request\n",
    "\n",
    "user_agent = 'Mozilla/5.0 (Windows NT 10.0; Win64; x64) AppleWebKit/537.36 (KHTML, like Gecko) Chrome/96.0.4664.110 Safari/537.36'\n",
    "\n",
    "for i, row in book.iterrows():\n",
    "    url = row['Image-URL-L']\n",
    "   \n",
    "    headers = {'User-Agent': user_agent}\n",
    "   \n",
    "    req = urllib.request.Request(url, headers=headers)\n",
    "    response = urllib.request.urlopen(req)\n",
    "    \n",
    "    with open(f\"./image/{row['ISBN']}.jpg\", \"wb\") as f:\n",
    "        f.write(response.read())\n"
   ]
  },
  {
   "cell_type": "code",
   "execution_count": null,
   "id": "b570a2e3-901a-424e-bb59-60221cc6f1bd",
   "metadata": {},
   "outputs": [],
   "source": [
    "# import urllib.request\n",
    "\n",
    "# url = book.iloc[0]['Image-URL-S']\n",
    "\n",
    "# save_path = './image/test.jpg'\n",
    "\n",
    "# image_read = urllib.request.urlopen(url).read()\n",
    "# image_open = open(save_path, 'wb')\n",
    "# image_open.write(image_read)\n",
    "# image_open.close()"
   ]
  },
  {
   "cell_type": "code",
   "execution_count": 97,
   "id": "a5790907-e094-4240-a718-35eef2a60479",
   "metadata": {},
   "outputs": [
    {
     "name": "stdout",
     "output_type": "stream",
     "text": [
      "HTTP 404 Error: http://images.amazon.com/images/P/0440419468.01.LZZZZZZZ.jpg\n",
      "HTTP 404 Error: http://images.amazon.com/images/P/1551667959.01.LZZZZZZZ.jpg\n",
      "HTTP 404 Error: http://images.amazon.com/images/P/0821758969.01.LZZZZZZZ.jpg\n",
      "HTTP 404 Error: http://images.amazon.com/images/P/0811819167.01.LZZZZZZZ.jpg\n",
      "HTTP 404 Error: http://images.amazon.com/images/P/0843946539.01.LZZZZZZZ.jpg\n",
      "HTTP 404 Error: http://images.amazon.com/images/P/1588992942.01.LZZZZZZZ.jpg\n",
      "HTTP 404 Error: http://images.amazon.com/images/P/0140178732.01.LZZZZZZZ.jpg\n",
      "HTTP 404 Error: http://images.amazon.com/images/P/1587541068.01.LZZZZZZZ.jpg\n",
      "HTTP 404 Error: http://images.amazon.com/images/P/0843946709.01.LZZZZZZZ.jpg\n",
      "HTTP 404 Error: http://images.amazon.com/images/P/0376038772.01.LZZZZZZZ.jpg\n",
      "HTTP 404 Error: http://images.amazon.com/images/P/0843946865.01.LZZZZZZZ.jpg\n",
      "HTTP 404 Error: http://images.amazon.com/images/P/1880664259.01.LZZZZZZZ.jpg\n",
      "HTTP 404 Error: http://images.amazon.com/images/P/0886778999.01.LZZZZZZZ.jpg\n",
      "HTTP 404 Error: http://images.amazon.com/images/P/0943641179.01.LZZZZZZZ.jpg\n",
      "HTTP 404 Error: http://images.amazon.com/images/P/1565075749.01.LZZZZZZZ.jpg\n",
      "HTTP 404 Error: http://images.amazon.com/images/P/0140468552.01.LZZZZZZZ.jpg\n",
      "HTTP 404 Error: http://images.amazon.com/images/P/0152008764.01.LZZZZZZZ.jpg\n",
      "HTTP 404 Error: http://images.amazon.com/images/P/1575667789.01.LZZZZZZZ.jpg\n"
     ]
    },
    {
     "name": "stderr",
     "output_type": "stream",
     "text": [
      "\n",
      "KeyboardInterrupt\n",
      "\n"
     ]
    }
   ],
   "source": [
    "import urllib.request\n",
    "import urllib.error\n",
    "\n",
    "user_agent = 'Mozilla/5.0 (Windows NT 10.0; Win64; x64) AppleWebKit/537.36 (KHTML, like Gecko) Chrome/96.0.4664.110 Safari/537.36'\n",
    "\n",
    "for i, row in book.iterrows():\n",
    "    url = row['Image-URL-L']\n",
    "   \n",
    "    headers = {'User-Agent': user_agent}\n",
    "   \n",
    "    req = urllib.request.Request(url, headers=headers)\n",
    "    \n",
    "    try:\n",
    "        response = urllib.request.urlopen(req)\n",
    "    except urllib.error.HTTPError as e:\n",
    "        if e.code == 404:\n",
    "            print(f\"HTTP 404 Error: {url}\")\n",
    "            continue\n",
    "        else:\n",
    "            print(e.code, url)\n",
    "            continue\n",
    "    \n",
    "    with open(f\"./image/{row['ISBN']}.jpg\", \"wb\") as f:\n",
    "        f.write(response.read())"
   ]
  },
  {
   "cell_type": "code",
   "execution_count": 100,
   "id": "6aa4ff99-0402-4b1b-803a-09b014a18905",
   "metadata": {},
   "outputs": [
    {
     "name": "stdout",
     "output_type": "stream",
     "text": [
      "HTTP 404 Error: http://images.amazon.com/images/P/1572970669.01.LZZZZZZZ.jpg\n",
      "HTTP 404 Error: http://images.amazon.com/images/P/1878086049.01.LZZZZZZZ.jpg\n",
      "HTTP 404 Error: http://images.amazon.com/images/P/0834803429.01.LZZZZZZZ.jpg\n",
      "HTTP 404 Error: http://images.amazon.com/images/P/0843951109.01.LZZZZZZZ.jpg\n",
      "HTTP 404 Error: http://images.amazon.com/images/P/1561484059.01.LZZZZZZZ.jpg\n",
      "HTTP 404 Error: http://images.amazon.com/images/P/0786015799.01.LZZZZZZZ.jpg\n",
      "HTTP 404 Error: http://images.amazon.com/images/P/0373440731.01.LZZZZZZZ.jpg\n",
      "HTTP 404 Error: http://images.amazon.com/images/P/0887764819.01.LZZZZZZZ.jpg\n",
      "HTTP 404 Error: http://images.amazon.com/images/P/0449905446.01.LZZZZZZZ.jpg\n",
      "HTTP 404 Error: http://images.amazon.com/images/P/1901289109.01.LZZZZZZZ.jpg\n",
      "HTTP 404 Error: http://images.amazon.com/images/P/0786811099.01.LZZZZZZZ.jpg\n",
      "HTTP 404 Error: http://images.amazon.com/images/P/0966760409.01.LZZZZZZZ.jpg\n",
      "HTTP 404 Error: http://images.amazon.com/images/P/0945575696.01.LZZZZZZZ.jpg\n"
     ]
    },
    {
     "name": "stderr",
     "output_type": "stream",
     "text": [
      "\n",
      "KeyboardInterrupt\n",
      "\n"
     ]
    }
   ],
   "source": [
    "import urllib.request\n",
    "import urllib.error\n",
    "\n",
    "user_agent = 'Mozilla/5.0 (Windows NT 10.0; Win64; x64) AppleWebKit/537.36 (KHTML, like Gecko) Chrome/96.0.4664.110 Safari/537.36'\n",
    "\n",
    "for i, row in book.iterrows():\n",
    "    if i >= 50763:\n",
    "        url = row['Image-URL-L']\n",
    "       \n",
    "        headers = {'User-Agent': user_agent}\n",
    "       \n",
    "        req = urllib.request.Request(url, headers=headers)\n",
    "        \n",
    "        try:\n",
    "            response = urllib.request.urlopen(req)\n",
    "        except urllib.error.HTTPError as e:\n",
    "            if e.code == 404:\n",
    "                print(f\"HTTP 404 Error: {url}\")\n",
    "                continue\n",
    "            else:\n",
    "                print(e.code, url)\n",
    "                continue\n",
    "        \n",
    "        with open(f\"./image/{row['ISBN']}.jpg\", \"wb\") as f:\n",
    "            f.write(response.read())"
   ]
  },
  {
   "cell_type": "code",
   "execution_count": null,
   "id": "b169ffc7-9c1c-4be7-9ffd-9d9bac2f69d8",
   "metadata": {},
   "outputs": [],
   "source": []
  },
  {
   "cell_type": "code",
   "execution_count": 101,
   "id": "a87b4abe-2ab6-48cf-92d5-2326a11cc557",
   "metadata": {},
   "outputs": [
    {
     "name": "stdout",
     "output_type": "stream",
     "text": [
      "HTTP 404 Error: http://images.amazon.com/images/P/1559501049.01.LZZZZZZZ.jpg\n",
      "HTTP 404 Error: http://images.amazon.com/images/P/1883013585.01.LZZZZZZZ.jpg\n",
      "HTTP 404 Error: http://images.amazon.com/images/P/0762400579.01.LZZZZZZZ.jpg\n",
      "HTTP 404 Error: http://images.amazon.com/images/P/0736608559.01.LZZZZZZZ.jpg\n"
     ]
    },
    {
     "ename": "ConnectionResetError",
     "evalue": "[Errno 54] Connection reset by peer",
     "output_type": "error",
     "traceback": [
      "\u001b[0;31m---------------------------------------------------------------------------\u001b[0m",
      "\u001b[0;31mConnectionResetError\u001b[0m                      Traceback (most recent call last)",
      "Cell \u001b[0;32mIn[101], line 15\u001b[0m\n\u001b[1;32m     12\u001b[0m req \u001b[38;5;241m=\u001b[39m urllib\u001b[38;5;241m.\u001b[39mrequest\u001b[38;5;241m.\u001b[39mRequest(url, headers\u001b[38;5;241m=\u001b[39mheaders)\n\u001b[1;32m     14\u001b[0m \u001b[38;5;28;01mtry\u001b[39;00m:\n\u001b[0;32m---> 15\u001b[0m     response \u001b[38;5;241m=\u001b[39m \u001b[43murllib\u001b[49m\u001b[38;5;241;43m.\u001b[39;49m\u001b[43mrequest\u001b[49m\u001b[38;5;241;43m.\u001b[39;49m\u001b[43murlopen\u001b[49m\u001b[43m(\u001b[49m\u001b[43mreq\u001b[49m\u001b[43m)\u001b[49m\n\u001b[1;32m     16\u001b[0m \u001b[38;5;28;01mexcept\u001b[39;00m urllib\u001b[38;5;241m.\u001b[39merror\u001b[38;5;241m.\u001b[39mHTTPError \u001b[38;5;28;01mas\u001b[39;00m e:\n\u001b[1;32m     17\u001b[0m     \u001b[38;5;28;01mif\u001b[39;00m e\u001b[38;5;241m.\u001b[39mcode \u001b[38;5;241m==\u001b[39m \u001b[38;5;241m404\u001b[39m:\n",
      "File \u001b[0;32m~/opt/anaconda3/envs/bookrec/lib/python3.8/urllib/request.py:222\u001b[0m, in \u001b[0;36murlopen\u001b[0;34m(url, data, timeout, cafile, capath, cadefault, context)\u001b[0m\n\u001b[1;32m    220\u001b[0m \u001b[38;5;28;01melse\u001b[39;00m:\n\u001b[1;32m    221\u001b[0m     opener \u001b[38;5;241m=\u001b[39m _opener\n\u001b[0;32m--> 222\u001b[0m \u001b[38;5;28;01mreturn\u001b[39;00m \u001b[43mopener\u001b[49m\u001b[38;5;241;43m.\u001b[39;49m\u001b[43mopen\u001b[49m\u001b[43m(\u001b[49m\u001b[43murl\u001b[49m\u001b[43m,\u001b[49m\u001b[43m \u001b[49m\u001b[43mdata\u001b[49m\u001b[43m,\u001b[49m\u001b[43m \u001b[49m\u001b[43mtimeout\u001b[49m\u001b[43m)\u001b[49m\n",
      "File \u001b[0;32m~/opt/anaconda3/envs/bookrec/lib/python3.8/urllib/request.py:525\u001b[0m, in \u001b[0;36mOpenerDirector.open\u001b[0;34m(self, fullurl, data, timeout)\u001b[0m\n\u001b[1;32m    522\u001b[0m     req \u001b[38;5;241m=\u001b[39m meth(req)\n\u001b[1;32m    524\u001b[0m sys\u001b[38;5;241m.\u001b[39maudit(\u001b[38;5;124m'\u001b[39m\u001b[38;5;124murllib.Request\u001b[39m\u001b[38;5;124m'\u001b[39m, req\u001b[38;5;241m.\u001b[39mfull_url, req\u001b[38;5;241m.\u001b[39mdata, req\u001b[38;5;241m.\u001b[39mheaders, req\u001b[38;5;241m.\u001b[39mget_method())\n\u001b[0;32m--> 525\u001b[0m response \u001b[38;5;241m=\u001b[39m \u001b[38;5;28;43mself\u001b[39;49m\u001b[38;5;241;43m.\u001b[39;49m\u001b[43m_open\u001b[49m\u001b[43m(\u001b[49m\u001b[43mreq\u001b[49m\u001b[43m,\u001b[49m\u001b[43m \u001b[49m\u001b[43mdata\u001b[49m\u001b[43m)\u001b[49m\n\u001b[1;32m    527\u001b[0m \u001b[38;5;66;03m# post-process response\u001b[39;00m\n\u001b[1;32m    528\u001b[0m meth_name \u001b[38;5;241m=\u001b[39m protocol\u001b[38;5;241m+\u001b[39m\u001b[38;5;124m\"\u001b[39m\u001b[38;5;124m_response\u001b[39m\u001b[38;5;124m\"\u001b[39m\n",
      "File \u001b[0;32m~/opt/anaconda3/envs/bookrec/lib/python3.8/urllib/request.py:542\u001b[0m, in \u001b[0;36mOpenerDirector._open\u001b[0;34m(self, req, data)\u001b[0m\n\u001b[1;32m    539\u001b[0m     \u001b[38;5;28;01mreturn\u001b[39;00m result\n\u001b[1;32m    541\u001b[0m protocol \u001b[38;5;241m=\u001b[39m req\u001b[38;5;241m.\u001b[39mtype\n\u001b[0;32m--> 542\u001b[0m result \u001b[38;5;241m=\u001b[39m \u001b[38;5;28;43mself\u001b[39;49m\u001b[38;5;241;43m.\u001b[39;49m\u001b[43m_call_chain\u001b[49m\u001b[43m(\u001b[49m\u001b[38;5;28;43mself\u001b[39;49m\u001b[38;5;241;43m.\u001b[39;49m\u001b[43mhandle_open\u001b[49m\u001b[43m,\u001b[49m\u001b[43m \u001b[49m\u001b[43mprotocol\u001b[49m\u001b[43m,\u001b[49m\u001b[43m \u001b[49m\u001b[43mprotocol\u001b[49m\u001b[43m \u001b[49m\u001b[38;5;241;43m+\u001b[39;49m\n\u001b[1;32m    543\u001b[0m \u001b[43m                          \u001b[49m\u001b[38;5;124;43m'\u001b[39;49m\u001b[38;5;124;43m_open\u001b[39;49m\u001b[38;5;124;43m'\u001b[39;49m\u001b[43m,\u001b[49m\u001b[43m \u001b[49m\u001b[43mreq\u001b[49m\u001b[43m)\u001b[49m\n\u001b[1;32m    544\u001b[0m \u001b[38;5;28;01mif\u001b[39;00m result:\n\u001b[1;32m    545\u001b[0m     \u001b[38;5;28;01mreturn\u001b[39;00m result\n",
      "File \u001b[0;32m~/opt/anaconda3/envs/bookrec/lib/python3.8/urllib/request.py:502\u001b[0m, in \u001b[0;36mOpenerDirector._call_chain\u001b[0;34m(self, chain, kind, meth_name, *args)\u001b[0m\n\u001b[1;32m    500\u001b[0m \u001b[38;5;28;01mfor\u001b[39;00m handler \u001b[38;5;129;01min\u001b[39;00m handlers:\n\u001b[1;32m    501\u001b[0m     func \u001b[38;5;241m=\u001b[39m \u001b[38;5;28mgetattr\u001b[39m(handler, meth_name)\n\u001b[0;32m--> 502\u001b[0m     result \u001b[38;5;241m=\u001b[39m \u001b[43mfunc\u001b[49m\u001b[43m(\u001b[49m\u001b[38;5;241;43m*\u001b[39;49m\u001b[43margs\u001b[49m\u001b[43m)\u001b[49m\n\u001b[1;32m    503\u001b[0m     \u001b[38;5;28;01mif\u001b[39;00m result \u001b[38;5;129;01mis\u001b[39;00m \u001b[38;5;129;01mnot\u001b[39;00m \u001b[38;5;28;01mNone\u001b[39;00m:\n\u001b[1;32m    504\u001b[0m         \u001b[38;5;28;01mreturn\u001b[39;00m result\n",
      "File \u001b[0;32m~/opt/anaconda3/envs/bookrec/lib/python3.8/urllib/request.py:1383\u001b[0m, in \u001b[0;36mHTTPHandler.http_open\u001b[0;34m(self, req)\u001b[0m\n\u001b[1;32m   1382\u001b[0m \u001b[38;5;28;01mdef\u001b[39;00m \u001b[38;5;21mhttp_open\u001b[39m(\u001b[38;5;28mself\u001b[39m, req):\n\u001b[0;32m-> 1383\u001b[0m     \u001b[38;5;28;01mreturn\u001b[39;00m \u001b[38;5;28;43mself\u001b[39;49m\u001b[38;5;241;43m.\u001b[39;49m\u001b[43mdo_open\u001b[49m\u001b[43m(\u001b[49m\u001b[43mhttp\u001b[49m\u001b[38;5;241;43m.\u001b[39;49m\u001b[43mclient\u001b[49m\u001b[38;5;241;43m.\u001b[39;49m\u001b[43mHTTPConnection\u001b[49m\u001b[43m,\u001b[49m\u001b[43m \u001b[49m\u001b[43mreq\u001b[49m\u001b[43m)\u001b[49m\n",
      "File \u001b[0;32m~/opt/anaconda3/envs/bookrec/lib/python3.8/urllib/request.py:1358\u001b[0m, in \u001b[0;36mAbstractHTTPHandler.do_open\u001b[0;34m(self, http_class, req, **http_conn_args)\u001b[0m\n\u001b[1;32m   1356\u001b[0m     \u001b[38;5;28;01mexcept\u001b[39;00m \u001b[38;5;167;01mOSError\u001b[39;00m \u001b[38;5;28;01mas\u001b[39;00m err: \u001b[38;5;66;03m# timeout error\u001b[39;00m\n\u001b[1;32m   1357\u001b[0m         \u001b[38;5;28;01mraise\u001b[39;00m URLError(err)\n\u001b[0;32m-> 1358\u001b[0m     r \u001b[38;5;241m=\u001b[39m \u001b[43mh\u001b[49m\u001b[38;5;241;43m.\u001b[39;49m\u001b[43mgetresponse\u001b[49m\u001b[43m(\u001b[49m\u001b[43m)\u001b[49m\n\u001b[1;32m   1359\u001b[0m \u001b[38;5;28;01mexcept\u001b[39;00m:\n\u001b[1;32m   1360\u001b[0m     h\u001b[38;5;241m.\u001b[39mclose()\n",
      "File \u001b[0;32m~/opt/anaconda3/envs/bookrec/lib/python3.8/http/client.py:1348\u001b[0m, in \u001b[0;36mHTTPConnection.getresponse\u001b[0;34m(self)\u001b[0m\n\u001b[1;32m   1346\u001b[0m \u001b[38;5;28;01mtry\u001b[39;00m:\n\u001b[1;32m   1347\u001b[0m     \u001b[38;5;28;01mtry\u001b[39;00m:\n\u001b[0;32m-> 1348\u001b[0m         \u001b[43mresponse\u001b[49m\u001b[38;5;241;43m.\u001b[39;49m\u001b[43mbegin\u001b[49m\u001b[43m(\u001b[49m\u001b[43m)\u001b[49m\n\u001b[1;32m   1349\u001b[0m     \u001b[38;5;28;01mexcept\u001b[39;00m \u001b[38;5;167;01mConnectionError\u001b[39;00m:\n\u001b[1;32m   1350\u001b[0m         \u001b[38;5;28mself\u001b[39m\u001b[38;5;241m.\u001b[39mclose()\n",
      "File \u001b[0;32m~/opt/anaconda3/envs/bookrec/lib/python3.8/http/client.py:316\u001b[0m, in \u001b[0;36mHTTPResponse.begin\u001b[0;34m(self)\u001b[0m\n\u001b[1;32m    314\u001b[0m \u001b[38;5;66;03m# read until we get a non-100 response\u001b[39;00m\n\u001b[1;32m    315\u001b[0m \u001b[38;5;28;01mwhile\u001b[39;00m \u001b[38;5;28;01mTrue\u001b[39;00m:\n\u001b[0;32m--> 316\u001b[0m     version, status, reason \u001b[38;5;241m=\u001b[39m \u001b[38;5;28;43mself\u001b[39;49m\u001b[38;5;241;43m.\u001b[39;49m\u001b[43m_read_status\u001b[49m\u001b[43m(\u001b[49m\u001b[43m)\u001b[49m\n\u001b[1;32m    317\u001b[0m     \u001b[38;5;28;01mif\u001b[39;00m status \u001b[38;5;241m!=\u001b[39m CONTINUE:\n\u001b[1;32m    318\u001b[0m         \u001b[38;5;28;01mbreak\u001b[39;00m\n",
      "File \u001b[0;32m~/opt/anaconda3/envs/bookrec/lib/python3.8/http/client.py:277\u001b[0m, in \u001b[0;36mHTTPResponse._read_status\u001b[0;34m(self)\u001b[0m\n\u001b[1;32m    276\u001b[0m \u001b[38;5;28;01mdef\u001b[39;00m \u001b[38;5;21m_read_status\u001b[39m(\u001b[38;5;28mself\u001b[39m):\n\u001b[0;32m--> 277\u001b[0m     line \u001b[38;5;241m=\u001b[39m \u001b[38;5;28mstr\u001b[39m(\u001b[38;5;28;43mself\u001b[39;49m\u001b[38;5;241;43m.\u001b[39;49m\u001b[43mfp\u001b[49m\u001b[38;5;241;43m.\u001b[39;49m\u001b[43mreadline\u001b[49m\u001b[43m(\u001b[49m\u001b[43m_MAXLINE\u001b[49m\u001b[43m \u001b[49m\u001b[38;5;241;43m+\u001b[39;49m\u001b[43m \u001b[49m\u001b[38;5;241;43m1\u001b[39;49m\u001b[43m)\u001b[49m, \u001b[38;5;124m\"\u001b[39m\u001b[38;5;124miso-8859-1\u001b[39m\u001b[38;5;124m\"\u001b[39m)\n\u001b[1;32m    278\u001b[0m     \u001b[38;5;28;01mif\u001b[39;00m \u001b[38;5;28mlen\u001b[39m(line) \u001b[38;5;241m>\u001b[39m _MAXLINE:\n\u001b[1;32m    279\u001b[0m         \u001b[38;5;28;01mraise\u001b[39;00m LineTooLong(\u001b[38;5;124m\"\u001b[39m\u001b[38;5;124mstatus line\u001b[39m\u001b[38;5;124m\"\u001b[39m)\n",
      "File \u001b[0;32m~/opt/anaconda3/envs/bookrec/lib/python3.8/socket.py:669\u001b[0m, in \u001b[0;36mSocketIO.readinto\u001b[0;34m(self, b)\u001b[0m\n\u001b[1;32m    667\u001b[0m \u001b[38;5;28;01mwhile\u001b[39;00m \u001b[38;5;28;01mTrue\u001b[39;00m:\n\u001b[1;32m    668\u001b[0m     \u001b[38;5;28;01mtry\u001b[39;00m:\n\u001b[0;32m--> 669\u001b[0m         \u001b[38;5;28;01mreturn\u001b[39;00m \u001b[38;5;28;43mself\u001b[39;49m\u001b[38;5;241;43m.\u001b[39;49m\u001b[43m_sock\u001b[49m\u001b[38;5;241;43m.\u001b[39;49m\u001b[43mrecv_into\u001b[49m\u001b[43m(\u001b[49m\u001b[43mb\u001b[49m\u001b[43m)\u001b[49m\n\u001b[1;32m    670\u001b[0m     \u001b[38;5;28;01mexcept\u001b[39;00m timeout:\n\u001b[1;32m    671\u001b[0m         \u001b[38;5;28mself\u001b[39m\u001b[38;5;241m.\u001b[39m_timeout_occurred \u001b[38;5;241m=\u001b[39m \u001b[38;5;28;01mTrue\u001b[39;00m\n",
      "\u001b[0;31mConnectionResetError\u001b[0m: [Errno 54] Connection reset by peer"
     ]
    }
   ],
   "source": [
    "import urllib.request\n",
    "import urllib.error\n",
    "\n",
    "user_agent = 'Mozilla/5.0 (Windows NT 10.0; Win64; x64) AppleWebKit/537.36 (KHTML, like Gecko) Chrome/96.0.4664.110 Safari/537.36'\n",
    "\n",
    "for i, row in book.iterrows():\n",
    "    if i >= 89336:\n",
    "        url = row['Image-URL-L']\n",
    "       \n",
    "        headers = {'User-Agent': user_agent}\n",
    "       \n",
    "        req = urllib.request.Request(url, headers=headers)\n",
    "        \n",
    "        try:\n",
    "            response = urllib.request.urlopen(req)\n",
    "        except urllib.error.HTTPError as e:\n",
    "            if e.code == 404:\n",
    "                print(f\"HTTP 404 Error: {url}\")\n",
    "                continue\n",
    "            else:\n",
    "                print(e.code, url)\n",
    "                continue\n",
    "        \n",
    "        with open(f\"./image/{row['ISBN']}.jpg\", \"wb\") as f:\n",
    "            f.write(response.read())"
   ]
  },
  {
   "cell_type": "code",
   "execution_count": 102,
   "id": "2b9c76ec-5b3e-45e3-be04-fcd927a750b3",
   "metadata": {},
   "outputs": [
    {
     "name": "stdout",
     "output_type": "stream",
     "text": [
      "HTTP 404 Error: http://images.amazon.com/images/P/1562516809.01.LZZZZZZZ.jpg\n",
      "HTTP 404 Error: http://images.amazon.com/images/P/0862783097.01.LZZZZZZZ.jpg\n",
      "HTTP 404 Error: http://images.amazon.com/images/P/1573226599.01.LZZZZZZZ.jpg\n"
     ]
    },
    {
     "name": "stderr",
     "output_type": "stream",
     "text": [
      "\n",
      "KeyboardInterrupt\n",
      "\n"
     ]
    }
   ],
   "source": [
    "import urllib.request\n",
    "import urllib.error\n",
    "\n",
    "user_agent = 'Mozilla/5.0 (Windows NT 10.0; Win64; x64) AppleWebKit/537.36 (KHTML, like Gecko) Chrome/96.0.4664.110 Safari/537.36'\n",
    "\n",
    "for i, row in book.iterrows():\n",
    "    if i >= 109474:\n",
    "        url = row['Image-URL-L']\n",
    "       \n",
    "        headers = {'User-Agent': user_agent}\n",
    "       \n",
    "        req = urllib.request.Request(url, headers=headers)\n",
    "        \n",
    "        try:\n",
    "            response = urllib.request.urlopen(req)\n",
    "        except urllib.error.HTTPError as e:\n",
    "            if e.code == 404:\n",
    "                print(f\"HTTP 404 Error: {url}\")\n",
    "                continue\n",
    "            else:\n",
    "                print(e.code, url)\n",
    "                continue\n",
    "        \n",
    "        with open(f\"./image/{row['ISBN']}.jpg\", \"wb\") as f:\n",
    "            f.write(response.read())"
   ]
  },
  {
   "cell_type": "code",
   "execution_count": 103,
   "id": "92da1a14-b423-4f90-85d1-89e0244f6d15",
   "metadata": {},
   "outputs": [
    {
     "name": "stdout",
     "output_type": "stream",
     "text": [
      "HTTP 404 Error: http://images.amazon.com/images/P/0761537147.01.LZZZZZZZ.jpg\n",
      "HTTP 404 Error: http://images.amazon.com/images/P/1586605089.01.LZZZZZZZ.jpg\n",
      "HTTP 404 Error: http://images.amazon.com/images/P/1556223919.01.LZZZZZZZ.jpg\n"
     ]
    },
    {
     "name": "stderr",
     "output_type": "stream",
     "text": [
      "\n",
      "KeyboardInterrupt\n",
      "\n"
     ]
    }
   ],
   "source": [
    "import urllib.request\n",
    "import urllib.error\n",
    "\n",
    "user_agent = 'Mozilla/5.0 (Windows NT 10.0; Win64; x64) AppleWebKit/537.36 (KHTML, like Gecko) Chrome/96.0.4664.110 Safari/537.36'\n",
    "\n",
    "for i, row in book.iterrows():\n",
    "    if i >= 116077:\n",
    "        url = row['Image-URL-L']\n",
    "       \n",
    "        headers = {'User-Agent': user_agent}\n",
    "       \n",
    "        req = urllib.request.Request(url, headers=headers)\n",
    "        \n",
    "        try:\n",
    "            response = urllib.request.urlopen(req)\n",
    "        except urllib.error.HTTPError as e:\n",
    "            if e.code == 404:\n",
    "                print(f\"HTTP 404 Error: {url}\")\n",
    "                continue\n",
    "            else:\n",
    "                print(e.code, url)\n",
    "                continue\n",
    "        \n",
    "        with open(f\"./image/{row['ISBN']}.jpg\", \"wb\") as f:\n",
    "            f.write(response.read())"
   ]
  },
  {
   "cell_type": "code",
   "execution_count": 104,
   "id": "77510ce7-432c-4295-bece-22dc15b1b74b",
   "metadata": {},
   "outputs": [
    {
     "name": "stdout",
     "output_type": "stream",
     "text": [
      "HTTP 404 Error: http://images.amazon.com/images/P/711900557X.01.LZZZZZZZ.jpg\n"
     ]
    },
    {
     "name": "stderr",
     "output_type": "stream",
     "text": [
      "\n",
      "KeyboardInterrupt\n",
      "\n"
     ]
    }
   ],
   "source": [
    "import urllib.request\n",
    "import urllib.error\n",
    "\n",
    "user_agent = 'Mozilla/5.0 (Windows NT 10.0; Win64; x64) AppleWebKit/537.36 (KHTML, like Gecko) Chrome/96.0.4664.110 Safari/537.36'\n",
    "\n",
    "for i, row in book.iterrows():\n",
    "    if i >= 122170:\n",
    "        url = row['Image-URL-L']\n",
    "       \n",
    "        headers = {'User-Agent': user_agent}\n",
    "       \n",
    "        req = urllib.request.Request(url, headers=headers)\n",
    "        \n",
    "        try:\n",
    "            response = urllib.request.urlopen(req)\n",
    "        except urllib.error.HTTPError as e:\n",
    "            if e.code == 404:\n",
    "                print(f\"HTTP 404 Error: {url}\")\n",
    "                continue\n",
    "            else:\n",
    "                print(e.code, url)\n",
    "                continue\n",
    "        \n",
    "        with open(f\"./image/{row['ISBN']}.jpg\", \"wb\") as f:\n",
    "            f.write(response.read())"
   ]
  },
  {
   "cell_type": "code",
   "execution_count": 105,
   "id": "eb14735f-4a1a-495c-a378-d493de8e09c0",
   "metadata": {},
   "outputs": [
    {
     "name": "stdout",
     "output_type": "stream",
     "text": [
      "HTTP 404 Error: http://images.amazon.com/images/P/1902934229.01.LZZZZZZZ.jpg\n",
      "HTTP 404 Error: http://images.amazon.com/images/P/1594140669.01.LZZZZZZZ.jpg\n",
      "HTTP 404 Error: http://images.amazon.com/images/P/0553566563.01.LZZZZZZZ.jpg\n",
      "HTTP 404 Error: http://images.amazon.com/images/P/0843949759.01.LZZZZZZZ.jpg\n",
      "HTTP 404 Error: http://images.amazon.com/images/P/0963942999.01.LZZZZZZZ.jpg\n",
      "HTTP 404 Error: http://images.amazon.com/images/P/0694524409.01.LZZZZZZZ.jpg\n",
      "HTTP 404 Error: http://images.amazon.com/images/P/0140390634.01.LZZZZZZZ.jpg\n",
      "HTTP 404 Error: http://images.amazon.com/images/P/0553446215.01.LZZZZZZZ.jpg\n",
      "HTTP 404 Error: http://images.amazon.com/images/P/0938721569.01.LZZZZZZZ.jpg\n"
     ]
    },
    {
     "ename": "ConnectionResetError",
     "evalue": "[Errno 54] Connection reset by peer",
     "output_type": "error",
     "traceback": [
      "\u001b[0;31m---------------------------------------------------------------------------\u001b[0m",
      "\u001b[0;31mConnectionResetError\u001b[0m                      Traceback (most recent call last)",
      "Cell \u001b[0;32mIn[105], line 15\u001b[0m\n\u001b[1;32m     12\u001b[0m req \u001b[38;5;241m=\u001b[39m urllib\u001b[38;5;241m.\u001b[39mrequest\u001b[38;5;241m.\u001b[39mRequest(url, headers\u001b[38;5;241m=\u001b[39mheaders)\n\u001b[1;32m     14\u001b[0m \u001b[38;5;28;01mtry\u001b[39;00m:\n\u001b[0;32m---> 15\u001b[0m     response \u001b[38;5;241m=\u001b[39m \u001b[43murllib\u001b[49m\u001b[38;5;241;43m.\u001b[39;49m\u001b[43mrequest\u001b[49m\u001b[38;5;241;43m.\u001b[39;49m\u001b[43murlopen\u001b[49m\u001b[43m(\u001b[49m\u001b[43mreq\u001b[49m\u001b[43m)\u001b[49m\n\u001b[1;32m     16\u001b[0m \u001b[38;5;28;01mexcept\u001b[39;00m urllib\u001b[38;5;241m.\u001b[39merror\u001b[38;5;241m.\u001b[39mHTTPError \u001b[38;5;28;01mas\u001b[39;00m e:\n\u001b[1;32m     17\u001b[0m     \u001b[38;5;28;01mif\u001b[39;00m e\u001b[38;5;241m.\u001b[39mcode \u001b[38;5;241m==\u001b[39m \u001b[38;5;241m404\u001b[39m:\n",
      "File \u001b[0;32m~/opt/anaconda3/envs/bookrec/lib/python3.8/urllib/request.py:222\u001b[0m, in \u001b[0;36murlopen\u001b[0;34m(url, data, timeout, cafile, capath, cadefault, context)\u001b[0m\n\u001b[1;32m    220\u001b[0m \u001b[38;5;28;01melse\u001b[39;00m:\n\u001b[1;32m    221\u001b[0m     opener \u001b[38;5;241m=\u001b[39m _opener\n\u001b[0;32m--> 222\u001b[0m \u001b[38;5;28;01mreturn\u001b[39;00m \u001b[43mopener\u001b[49m\u001b[38;5;241;43m.\u001b[39;49m\u001b[43mopen\u001b[49m\u001b[43m(\u001b[49m\u001b[43murl\u001b[49m\u001b[43m,\u001b[49m\u001b[43m \u001b[49m\u001b[43mdata\u001b[49m\u001b[43m,\u001b[49m\u001b[43m \u001b[49m\u001b[43mtimeout\u001b[49m\u001b[43m)\u001b[49m\n",
      "File \u001b[0;32m~/opt/anaconda3/envs/bookrec/lib/python3.8/urllib/request.py:525\u001b[0m, in \u001b[0;36mOpenerDirector.open\u001b[0;34m(self, fullurl, data, timeout)\u001b[0m\n\u001b[1;32m    522\u001b[0m     req \u001b[38;5;241m=\u001b[39m meth(req)\n\u001b[1;32m    524\u001b[0m sys\u001b[38;5;241m.\u001b[39maudit(\u001b[38;5;124m'\u001b[39m\u001b[38;5;124murllib.Request\u001b[39m\u001b[38;5;124m'\u001b[39m, req\u001b[38;5;241m.\u001b[39mfull_url, req\u001b[38;5;241m.\u001b[39mdata, req\u001b[38;5;241m.\u001b[39mheaders, req\u001b[38;5;241m.\u001b[39mget_method())\n\u001b[0;32m--> 525\u001b[0m response \u001b[38;5;241m=\u001b[39m \u001b[38;5;28;43mself\u001b[39;49m\u001b[38;5;241;43m.\u001b[39;49m\u001b[43m_open\u001b[49m\u001b[43m(\u001b[49m\u001b[43mreq\u001b[49m\u001b[43m,\u001b[49m\u001b[43m \u001b[49m\u001b[43mdata\u001b[49m\u001b[43m)\u001b[49m\n\u001b[1;32m    527\u001b[0m \u001b[38;5;66;03m# post-process response\u001b[39;00m\n\u001b[1;32m    528\u001b[0m meth_name \u001b[38;5;241m=\u001b[39m protocol\u001b[38;5;241m+\u001b[39m\u001b[38;5;124m\"\u001b[39m\u001b[38;5;124m_response\u001b[39m\u001b[38;5;124m\"\u001b[39m\n",
      "File \u001b[0;32m~/opt/anaconda3/envs/bookrec/lib/python3.8/urllib/request.py:542\u001b[0m, in \u001b[0;36mOpenerDirector._open\u001b[0;34m(self, req, data)\u001b[0m\n\u001b[1;32m    539\u001b[0m     \u001b[38;5;28;01mreturn\u001b[39;00m result\n\u001b[1;32m    541\u001b[0m protocol \u001b[38;5;241m=\u001b[39m req\u001b[38;5;241m.\u001b[39mtype\n\u001b[0;32m--> 542\u001b[0m result \u001b[38;5;241m=\u001b[39m \u001b[38;5;28;43mself\u001b[39;49m\u001b[38;5;241;43m.\u001b[39;49m\u001b[43m_call_chain\u001b[49m\u001b[43m(\u001b[49m\u001b[38;5;28;43mself\u001b[39;49m\u001b[38;5;241;43m.\u001b[39;49m\u001b[43mhandle_open\u001b[49m\u001b[43m,\u001b[49m\u001b[43m \u001b[49m\u001b[43mprotocol\u001b[49m\u001b[43m,\u001b[49m\u001b[43m \u001b[49m\u001b[43mprotocol\u001b[49m\u001b[43m \u001b[49m\u001b[38;5;241;43m+\u001b[39;49m\n\u001b[1;32m    543\u001b[0m \u001b[43m                          \u001b[49m\u001b[38;5;124;43m'\u001b[39;49m\u001b[38;5;124;43m_open\u001b[39;49m\u001b[38;5;124;43m'\u001b[39;49m\u001b[43m,\u001b[49m\u001b[43m \u001b[49m\u001b[43mreq\u001b[49m\u001b[43m)\u001b[49m\n\u001b[1;32m    544\u001b[0m \u001b[38;5;28;01mif\u001b[39;00m result:\n\u001b[1;32m    545\u001b[0m     \u001b[38;5;28;01mreturn\u001b[39;00m result\n",
      "File \u001b[0;32m~/opt/anaconda3/envs/bookrec/lib/python3.8/urllib/request.py:502\u001b[0m, in \u001b[0;36mOpenerDirector._call_chain\u001b[0;34m(self, chain, kind, meth_name, *args)\u001b[0m\n\u001b[1;32m    500\u001b[0m \u001b[38;5;28;01mfor\u001b[39;00m handler \u001b[38;5;129;01min\u001b[39;00m handlers:\n\u001b[1;32m    501\u001b[0m     func \u001b[38;5;241m=\u001b[39m \u001b[38;5;28mgetattr\u001b[39m(handler, meth_name)\n\u001b[0;32m--> 502\u001b[0m     result \u001b[38;5;241m=\u001b[39m \u001b[43mfunc\u001b[49m\u001b[43m(\u001b[49m\u001b[38;5;241;43m*\u001b[39;49m\u001b[43margs\u001b[49m\u001b[43m)\u001b[49m\n\u001b[1;32m    503\u001b[0m     \u001b[38;5;28;01mif\u001b[39;00m result \u001b[38;5;129;01mis\u001b[39;00m \u001b[38;5;129;01mnot\u001b[39;00m \u001b[38;5;28;01mNone\u001b[39;00m:\n\u001b[1;32m    504\u001b[0m         \u001b[38;5;28;01mreturn\u001b[39;00m result\n",
      "File \u001b[0;32m~/opt/anaconda3/envs/bookrec/lib/python3.8/urllib/request.py:1383\u001b[0m, in \u001b[0;36mHTTPHandler.http_open\u001b[0;34m(self, req)\u001b[0m\n\u001b[1;32m   1382\u001b[0m \u001b[38;5;28;01mdef\u001b[39;00m \u001b[38;5;21mhttp_open\u001b[39m(\u001b[38;5;28mself\u001b[39m, req):\n\u001b[0;32m-> 1383\u001b[0m     \u001b[38;5;28;01mreturn\u001b[39;00m \u001b[38;5;28;43mself\u001b[39;49m\u001b[38;5;241;43m.\u001b[39;49m\u001b[43mdo_open\u001b[49m\u001b[43m(\u001b[49m\u001b[43mhttp\u001b[49m\u001b[38;5;241;43m.\u001b[39;49m\u001b[43mclient\u001b[49m\u001b[38;5;241;43m.\u001b[39;49m\u001b[43mHTTPConnection\u001b[49m\u001b[43m,\u001b[49m\u001b[43m \u001b[49m\u001b[43mreq\u001b[49m\u001b[43m)\u001b[49m\n",
      "File \u001b[0;32m~/opt/anaconda3/envs/bookrec/lib/python3.8/urllib/request.py:1358\u001b[0m, in \u001b[0;36mAbstractHTTPHandler.do_open\u001b[0;34m(self, http_class, req, **http_conn_args)\u001b[0m\n\u001b[1;32m   1356\u001b[0m     \u001b[38;5;28;01mexcept\u001b[39;00m \u001b[38;5;167;01mOSError\u001b[39;00m \u001b[38;5;28;01mas\u001b[39;00m err: \u001b[38;5;66;03m# timeout error\u001b[39;00m\n\u001b[1;32m   1357\u001b[0m         \u001b[38;5;28;01mraise\u001b[39;00m URLError(err)\n\u001b[0;32m-> 1358\u001b[0m     r \u001b[38;5;241m=\u001b[39m \u001b[43mh\u001b[49m\u001b[38;5;241;43m.\u001b[39;49m\u001b[43mgetresponse\u001b[49m\u001b[43m(\u001b[49m\u001b[43m)\u001b[49m\n\u001b[1;32m   1359\u001b[0m \u001b[38;5;28;01mexcept\u001b[39;00m:\n\u001b[1;32m   1360\u001b[0m     h\u001b[38;5;241m.\u001b[39mclose()\n",
      "File \u001b[0;32m~/opt/anaconda3/envs/bookrec/lib/python3.8/http/client.py:1348\u001b[0m, in \u001b[0;36mHTTPConnection.getresponse\u001b[0;34m(self)\u001b[0m\n\u001b[1;32m   1346\u001b[0m \u001b[38;5;28;01mtry\u001b[39;00m:\n\u001b[1;32m   1347\u001b[0m     \u001b[38;5;28;01mtry\u001b[39;00m:\n\u001b[0;32m-> 1348\u001b[0m         \u001b[43mresponse\u001b[49m\u001b[38;5;241;43m.\u001b[39;49m\u001b[43mbegin\u001b[49m\u001b[43m(\u001b[49m\u001b[43m)\u001b[49m\n\u001b[1;32m   1349\u001b[0m     \u001b[38;5;28;01mexcept\u001b[39;00m \u001b[38;5;167;01mConnectionError\u001b[39;00m:\n\u001b[1;32m   1350\u001b[0m         \u001b[38;5;28mself\u001b[39m\u001b[38;5;241m.\u001b[39mclose()\n",
      "File \u001b[0;32m~/opt/anaconda3/envs/bookrec/lib/python3.8/http/client.py:316\u001b[0m, in \u001b[0;36mHTTPResponse.begin\u001b[0;34m(self)\u001b[0m\n\u001b[1;32m    314\u001b[0m \u001b[38;5;66;03m# read until we get a non-100 response\u001b[39;00m\n\u001b[1;32m    315\u001b[0m \u001b[38;5;28;01mwhile\u001b[39;00m \u001b[38;5;28;01mTrue\u001b[39;00m:\n\u001b[0;32m--> 316\u001b[0m     version, status, reason \u001b[38;5;241m=\u001b[39m \u001b[38;5;28;43mself\u001b[39;49m\u001b[38;5;241;43m.\u001b[39;49m\u001b[43m_read_status\u001b[49m\u001b[43m(\u001b[49m\u001b[43m)\u001b[49m\n\u001b[1;32m    317\u001b[0m     \u001b[38;5;28;01mif\u001b[39;00m status \u001b[38;5;241m!=\u001b[39m CONTINUE:\n\u001b[1;32m    318\u001b[0m         \u001b[38;5;28;01mbreak\u001b[39;00m\n",
      "File \u001b[0;32m~/opt/anaconda3/envs/bookrec/lib/python3.8/http/client.py:277\u001b[0m, in \u001b[0;36mHTTPResponse._read_status\u001b[0;34m(self)\u001b[0m\n\u001b[1;32m    276\u001b[0m \u001b[38;5;28;01mdef\u001b[39;00m \u001b[38;5;21m_read_status\u001b[39m(\u001b[38;5;28mself\u001b[39m):\n\u001b[0;32m--> 277\u001b[0m     line \u001b[38;5;241m=\u001b[39m \u001b[38;5;28mstr\u001b[39m(\u001b[38;5;28;43mself\u001b[39;49m\u001b[38;5;241;43m.\u001b[39;49m\u001b[43mfp\u001b[49m\u001b[38;5;241;43m.\u001b[39;49m\u001b[43mreadline\u001b[49m\u001b[43m(\u001b[49m\u001b[43m_MAXLINE\u001b[49m\u001b[43m \u001b[49m\u001b[38;5;241;43m+\u001b[39;49m\u001b[43m \u001b[49m\u001b[38;5;241;43m1\u001b[39;49m\u001b[43m)\u001b[49m, \u001b[38;5;124m\"\u001b[39m\u001b[38;5;124miso-8859-1\u001b[39m\u001b[38;5;124m\"\u001b[39m)\n\u001b[1;32m    278\u001b[0m     \u001b[38;5;28;01mif\u001b[39;00m \u001b[38;5;28mlen\u001b[39m(line) \u001b[38;5;241m>\u001b[39m _MAXLINE:\n\u001b[1;32m    279\u001b[0m         \u001b[38;5;28;01mraise\u001b[39;00m LineTooLong(\u001b[38;5;124m\"\u001b[39m\u001b[38;5;124mstatus line\u001b[39m\u001b[38;5;124m\"\u001b[39m)\n",
      "File \u001b[0;32m~/opt/anaconda3/envs/bookrec/lib/python3.8/socket.py:669\u001b[0m, in \u001b[0;36mSocketIO.readinto\u001b[0;34m(self, b)\u001b[0m\n\u001b[1;32m    667\u001b[0m \u001b[38;5;28;01mwhile\u001b[39;00m \u001b[38;5;28;01mTrue\u001b[39;00m:\n\u001b[1;32m    668\u001b[0m     \u001b[38;5;28;01mtry\u001b[39;00m:\n\u001b[0;32m--> 669\u001b[0m         \u001b[38;5;28;01mreturn\u001b[39;00m \u001b[38;5;28;43mself\u001b[39;49m\u001b[38;5;241;43m.\u001b[39;49m\u001b[43m_sock\u001b[49m\u001b[38;5;241;43m.\u001b[39;49m\u001b[43mrecv_into\u001b[49m\u001b[43m(\u001b[49m\u001b[43mb\u001b[49m\u001b[43m)\u001b[49m\n\u001b[1;32m    670\u001b[0m     \u001b[38;5;28;01mexcept\u001b[39;00m timeout:\n\u001b[1;32m    671\u001b[0m         \u001b[38;5;28mself\u001b[39m\u001b[38;5;241m.\u001b[39m_timeout_occurred \u001b[38;5;241m=\u001b[39m \u001b[38;5;28;01mTrue\u001b[39;00m\n",
      "\u001b[0;31mConnectionResetError\u001b[0m: [Errno 54] Connection reset by peer"
     ]
    }
   ],
   "source": [
    "import urllib.request\n",
    "import urllib.error\n",
    "\n",
    "user_agent = 'Mozilla/5.0 (Windows NT 10.0; Win64; x64) AppleWebKit/537.36 (KHTML, like Gecko) Chrome/96.0.4664.110 Safari/537.36'\n",
    "\n",
    "for i, row in book.iterrows():\n",
    "    if i >= 125367:\n",
    "        url = row['Image-URL-L']\n",
    "       \n",
    "        headers = {'User-Agent': user_agent}\n",
    "       \n",
    "        req = urllib.request.Request(url, headers=headers)\n",
    "        \n",
    "        try:\n",
    "            response = urllib.request.urlopen(req)\n",
    "        except urllib.error.HTTPError as e:\n",
    "            if e.code == 404:\n",
    "                print(f\"HTTP 404 Error: {url}\")\n",
    "                continue\n",
    "            else:\n",
    "                print(e.code, url)\n",
    "                continue\n",
    "        \n",
    "        with open(f\"./image/{row['ISBN']}.jpg\", \"wb\") as f:\n",
    "            f.write(response.read())"
   ]
  },
  {
   "cell_type": "code",
   "execution_count": 106,
   "id": "9af9fca6-c28c-4c2f-a3cf-db6d75d549dc",
   "metadata": {},
   "outputs": [
    {
     "name": "stderr",
     "output_type": "stream",
     "text": [
      "\n",
      "KeyboardInterrupt\n",
      "\n"
     ]
    }
   ],
   "source": [
    "import urllib.request\n",
    "import urllib.error\n",
    "\n",
    "user_agent = 'Mozilla/5.0 (Windows NT 10.0; Win64; x64) AppleWebKit/537.36 (KHTML, like Gecko) Chrome/96.0.4664.110 Safari/537.36'\n",
    "\n",
    "for i, row in book.iterrows():\n",
    "    if i >= 142217:\n",
    "        url = row['Image-URL-L']\n",
    "       \n",
    "        headers = {'User-Agent': user_agent}\n",
    "       \n",
    "        req = urllib.request.Request(url, headers=headers)\n",
    "        \n",
    "        try:\n",
    "            response = urllib.request.urlopen(req)\n",
    "        except urllib.error.HTTPError as e:\n",
    "            if e.code == 404:\n",
    "                print(f\"HTTP 404 Error: {url}\")\n",
    "                continue\n",
    "            else:\n",
    "                print(e.code, url)\n",
    "                continue\n",
    "        \n",
    "        with open(f\"./image/{row['ISBN']}.jpg\", \"wb\") as f:\n",
    "            f.write(response.read())"
   ]
  },
  {
   "cell_type": "code",
   "execution_count": 107,
   "id": "d61086b1-ca8c-480f-be6f-cfbec3417d2f",
   "metadata": {},
   "outputs": [
    {
     "name": "stdout",
     "output_type": "stream",
     "text": [
      "HTTP 404 Error: http://images.amazon.com/images/P/0762707569.01.LZZZZZZZ.jpg\n",
      "HTTP 404 Error: http://images.amazon.com/images/P/0140280162.01.LZZZZZZZ.jpg\n",
      "HTTP 404 Error: http://images.amazon.com/images/P/0821770799.01.LZZZZZZZ.jpg\n"
     ]
    },
    {
     "name": "stderr",
     "output_type": "stream",
     "text": [
      "\n",
      "KeyboardInterrupt\n",
      "\n"
     ]
    }
   ],
   "source": [
    "import urllib.request\n",
    "import urllib.error\n",
    "\n",
    "user_agent = 'Mozilla/5.0 (Windows NT 10.0; Win64; x64) AppleWebKit/537.36 (KHTML, like Gecko) Chrome/96.0.4664.110 Safari/537.36'\n",
    "\n",
    "for i, row in book.iterrows():\n",
    "    if i >= 144783:\n",
    "        url = row['Image-URL-L']\n",
    "       \n",
    "        headers = {'User-Agent': user_agent}\n",
    "       \n",
    "        req = urllib.request.Request(url, headers=headers)\n",
    "        \n",
    "        try:\n",
    "            response = urllib.request.urlopen(req)\n",
    "        except urllib.error.HTTPError as e:\n",
    "            if e.code == 404:\n",
    "                print(f\"HTTP 404 Error: {url}\")\n",
    "                continue\n",
    "            else:\n",
    "                print(e.code, url)\n",
    "                continue\n",
    "        \n",
    "        with open(f\"./image/{row['ISBN']}.jpg\", \"wb\") as f:\n",
    "            f.write(response.read())"
   ]
  },
  {
   "cell_type": "code",
   "execution_count": 108,
   "id": "a3400485-4a64-463d-8fea-19d3cc61a7bc",
   "metadata": {},
   "outputs": [
    {
     "name": "stderr",
     "output_type": "stream",
     "text": [
      "\n",
      "KeyboardInterrupt\n",
      "\n"
     ]
    }
   ],
   "source": [
    "import urllib.request\n",
    "import urllib.error\n",
    "\n",
    "user_agent = 'Mozilla/5.0 (Windows NT 10.0; Win64; x64) AppleWebKit/537.36 (KHTML, like Gecko) Chrome/96.0.4664.110 Safari/537.36'\n",
    "\n",
    "for i, row in book.iloc[150514:].iterrows():\n",
    "    url = row['Image-URL-L']\n",
    "   \n",
    "    headers = {'User-Agent': user_agent}\n",
    "   \n",
    "    req = urllib.request.Request(url, headers=headers)\n",
    "    \n",
    "    try:\n",
    "        response = urllib.request.urlopen(req)\n",
    "    except urllib.error.HTTPError as e:\n",
    "        if e.code == 404:\n",
    "            print(f\"HTTP 404 Error: {url}\")\n",
    "            continue\n",
    "        else:\n",
    "            print(e.code, url)\n",
    "            continue\n",
    "    \n",
    "    with open(f\"./image/{row['ISBN']}.jpg\", \"wb\") as f:\n",
    "        f.write(response.read())"
   ]
  },
  {
   "cell_type": "code",
   "execution_count": 109,
   "id": "5e3e79cd-7cff-4303-90f8-6538b78fb2b3",
   "metadata": {},
   "outputs": [
    {
     "name": "stdout",
     "output_type": "stream",
     "text": [
      "HTTP 404 Error: http://images.amazon.com/images/P/1569470839.01.LZZZZZZZ.jpg\n",
      "HTTP 404 Error: http://images.amazon.com/images/P/0312890575.01.LZZZZZZZ.jpg\n",
      "HTTP 404 Error: http://images.amazon.com/images/P/0758203179.01.LZZZZZZZ.jpg\n",
      "HTTP 404 Error: http://images.amazon.com/images/P/0786813989.01.LZZZZZZZ.jpg\n",
      "HTTP 404 Error: http://images.amazon.com/images/P/0746023634.01.LZZZZZZZ.jpg\n",
      "HTTP 404 Error: http://images.amazon.com/images/P/1888729015.01.LZZZZZZZ.jpg\n",
      "HTTP 404 Error: http://images.amazon.com/images/P/0897211499.01.LZZZZZZZ.jpg\n",
      "HTTP 404 Error: http://images.amazon.com/images/P/0140244522.01.LZZZZZZZ.jpg\n",
      "HTTP 404 Error: http://images.amazon.com/images/P/1586633112.01.LZZZZZZZ.jpg\n",
      "HTTP 404 Error: http://images.amazon.com/images/P/950511611X.01.LZZZZZZZ.jpg\n",
      "HTTP 404 Error: http://images.amazon.com/images/P/0140349057.01.LZZZZZZZ.jpg\n",
      "HTTP 404 Error: http://images.amazon.com/images/P/0866224599.01.LZZZZZZZ.jpg\n",
      "HTTP 404 Error: http://images.amazon.com/images/P/0155067664.01.LZZZZZZZ.jpg\n",
      "HTTP 404 Error: http://images.amazon.com/images/P/2264028149.01.LZZZZZZZ.jpg\n"
     ]
    },
    {
     "name": "stderr",
     "output_type": "stream",
     "text": [
      "\n",
      "KeyboardInterrupt\n",
      "\n"
     ]
    }
   ],
   "source": [
    "import urllib.request\n",
    "import urllib.error\n",
    "\n",
    "user_agent = 'Mozilla/5.0 (Windows NT 10.0; Win64; x64) AppleWebKit/537.36 (KHTML, like Gecko) Chrome/96.0.4664.110 Safari/537.36'\n",
    "\n",
    "for i, row in book.iterrows():\n",
    "    if i >= 150514:\n",
    "        url = row['Image-URL-L']\n",
    "       \n",
    "        headers = {'User-Agent': user_agent}\n",
    "       \n",
    "        req = urllib.request.Request(url, headers=headers)\n",
    "        \n",
    "        try:\n",
    "            response = urllib.request.urlopen(req)\n",
    "        except urllib.error.HTTPError as e:\n",
    "            if e.code == 404:\n",
    "                print(f\"HTTP 404 Error: {url}\")\n",
    "                continue\n",
    "            else:\n",
    "                print(e.code, url)\n",
    "                continue\n",
    "        \n",
    "        with open(f\"./image/{row['ISBN']}.jpg\", \"wb\") as f:\n",
    "            f.write(response.read())"
   ]
  },
  {
   "cell_type": "code",
   "execution_count": 110,
   "id": "d1d166f8-92d3-48e8-8676-160eda810d32",
   "metadata": {},
   "outputs": [
    {
     "name": "stdout",
     "output_type": "stream",
     "text": [
      "HTTP 404 Error: http://images.amazon.com/images/P/2264028149.01.LZZZZZZZ.jpg\n"
     ]
    },
    {
     "name": "stderr",
     "output_type": "stream",
     "text": [
      "\n",
      "KeyboardInterrupt\n",
      "\n"
     ]
    }
   ],
   "source": [
    "import urllib.request\n",
    "import urllib.error\n",
    "\n",
    "user_agent = 'Mozilla/5.0 (Windows NT 10.0; Win64; x64) AppleWebKit/537.36 (KHTML, like Gecko) Chrome/96.0.4664.110 Safari/537.36'\n",
    "\n",
    "for i, row in book.iterrows():\n",
    "    if i >= 176440:\n",
    "        url = row['Image-URL-L']\n",
    "       \n",
    "        headers = {'User-Agent': user_agent}\n",
    "       \n",
    "        req = urllib.request.Request(url, headers=headers)\n",
    "        \n",
    "        try:\n",
    "            response = urllib.request.urlopen(req)\n",
    "        except urllib.error.HTTPError as e:\n",
    "            if e.code == 404:\n",
    "                print(f\"HTTP 404 Error: {url}\")\n",
    "                continue\n",
    "            else:\n",
    "                print(e.code, url)\n",
    "                continue\n",
    "        \n",
    "        with open(f\"./image/{row['ISBN']}.jpg\", \"wb\") as f:\n",
    "            f.write(response.read())"
   ]
  },
  {
   "cell_type": "code",
   "execution_count": 115,
   "id": "6e712c9e-3e22-44c9-918c-a71e8bfaaefb",
   "metadata": {},
   "outputs": [
    {
     "data": {
      "text/html": [
       "<div>\n",
       "<style scoped>\n",
       "    .dataframe tbody tr th:only-of-type {\n",
       "        vertical-align: middle;\n",
       "    }\n",
       "\n",
       "    .dataframe tbody tr th {\n",
       "        vertical-align: top;\n",
       "    }\n",
       "\n",
       "    .dataframe thead th {\n",
       "        text-align: right;\n",
       "    }\n",
       "</style>\n",
       "<table border=\"1\" class=\"dataframe\">\n",
       "  <thead>\n",
       "    <tr style=\"text-align: right;\">\n",
       "      <th></th>\n",
       "      <th>ISBN</th>\n",
       "      <th>Book-Title</th>\n",
       "      <th>Book-Author</th>\n",
       "      <th>Year-Of-Publication</th>\n",
       "      <th>Publisher</th>\n",
       "      <th>Image-URL-S</th>\n",
       "      <th>Image-URL-M</th>\n",
       "      <th>Image-URL-L</th>\n",
       "    </tr>\n",
       "  </thead>\n",
       "  <tbody>\n",
       "    <tr>\n",
       "      <th>0</th>\n",
       "      <td>0195153448</td>\n",
       "      <td>Classical Mythology</td>\n",
       "      <td>Mark P. O. Morford</td>\n",
       "      <td>2002</td>\n",
       "      <td>Oxford University Press</td>\n",
       "      <td>http://images.amazon.com/images/P/0195153448.0...</td>\n",
       "      <td>http://images.amazon.com/images/P/0195153448.0...</td>\n",
       "      <td>http://images.amazon.com/images/P/0195153448.0...</td>\n",
       "    </tr>\n",
       "    <tr>\n",
       "      <th>1</th>\n",
       "      <td>0002005018</td>\n",
       "      <td>Clara Callan</td>\n",
       "      <td>Richard Bruce Wright</td>\n",
       "      <td>2001</td>\n",
       "      <td>HarperFlamingo Canada</td>\n",
       "      <td>http://images.amazon.com/images/P/0002005018.0...</td>\n",
       "      <td>http://images.amazon.com/images/P/0002005018.0...</td>\n",
       "      <td>http://images.amazon.com/images/P/0002005018.0...</td>\n",
       "    </tr>\n",
       "    <tr>\n",
       "      <th>2</th>\n",
       "      <td>0060973129</td>\n",
       "      <td>Decision in Normandy</td>\n",
       "      <td>Carlo D'Este</td>\n",
       "      <td>1991</td>\n",
       "      <td>HarperPerennial</td>\n",
       "      <td>http://images.amazon.com/images/P/0060973129.0...</td>\n",
       "      <td>http://images.amazon.com/images/P/0060973129.0...</td>\n",
       "      <td>http://images.amazon.com/images/P/0060973129.0...</td>\n",
       "    </tr>\n",
       "    <tr>\n",
       "      <th>3</th>\n",
       "      <td>0374157065</td>\n",
       "      <td>Flu: The Story of the Great Influenza Pandemic...</td>\n",
       "      <td>Gina Bari Kolata</td>\n",
       "      <td>1999</td>\n",
       "      <td>Farrar Straus Giroux</td>\n",
       "      <td>http://images.amazon.com/images/P/0374157065.0...</td>\n",
       "      <td>http://images.amazon.com/images/P/0374157065.0...</td>\n",
       "      <td>http://images.amazon.com/images/P/0374157065.0...</td>\n",
       "    </tr>\n",
       "    <tr>\n",
       "      <th>4</th>\n",
       "      <td>0393045218</td>\n",
       "      <td>The Mummies of Urumchi</td>\n",
       "      <td>E. J. W. Barber</td>\n",
       "      <td>1999</td>\n",
       "      <td>W. W. Norton &amp;amp; Company</td>\n",
       "      <td>http://images.amazon.com/images/P/0393045218.0...</td>\n",
       "      <td>http://images.amazon.com/images/P/0393045218.0...</td>\n",
       "      <td>http://images.amazon.com/images/P/0393045218.0...</td>\n",
       "    </tr>\n",
       "    <tr>\n",
       "      <th>...</th>\n",
       "      <td>...</td>\n",
       "      <td>...</td>\n",
       "      <td>...</td>\n",
       "      <td>...</td>\n",
       "      <td>...</td>\n",
       "      <td>...</td>\n",
       "      <td>...</td>\n",
       "      <td>...</td>\n",
       "    </tr>\n",
       "    <tr>\n",
       "      <th>271355</th>\n",
       "      <td>0440400988</td>\n",
       "      <td>There's a Bat in Bunk Five</td>\n",
       "      <td>Paula Danziger</td>\n",
       "      <td>1988</td>\n",
       "      <td>Random House Childrens Pub (Mm)</td>\n",
       "      <td>http://images.amazon.com/images/P/0440400988.0...</td>\n",
       "      <td>http://images.amazon.com/images/P/0440400988.0...</td>\n",
       "      <td>http://images.amazon.com/images/P/0440400988.0...</td>\n",
       "    </tr>\n",
       "    <tr>\n",
       "      <th>271356</th>\n",
       "      <td>0525447644</td>\n",
       "      <td>From One to One Hundred</td>\n",
       "      <td>Teri Sloat</td>\n",
       "      <td>1991</td>\n",
       "      <td>Dutton Books</td>\n",
       "      <td>http://images.amazon.com/images/P/0525447644.0...</td>\n",
       "      <td>http://images.amazon.com/images/P/0525447644.0...</td>\n",
       "      <td>http://images.amazon.com/images/P/0525447644.0...</td>\n",
       "    </tr>\n",
       "    <tr>\n",
       "      <th>271357</th>\n",
       "      <td>006008667X</td>\n",
       "      <td>Lily Dale : The True Story of the Town that Ta...</td>\n",
       "      <td>Christine Wicker</td>\n",
       "      <td>2004</td>\n",
       "      <td>HarperSanFrancisco</td>\n",
       "      <td>http://images.amazon.com/images/P/006008667X.0...</td>\n",
       "      <td>http://images.amazon.com/images/P/006008667X.0...</td>\n",
       "      <td>http://images.amazon.com/images/P/006008667X.0...</td>\n",
       "    </tr>\n",
       "    <tr>\n",
       "      <th>271358</th>\n",
       "      <td>0192126040</td>\n",
       "      <td>Republic (World's Classics)</td>\n",
       "      <td>Plato</td>\n",
       "      <td>1996</td>\n",
       "      <td>Oxford University Press</td>\n",
       "      <td>http://images.amazon.com/images/P/0192126040.0...</td>\n",
       "      <td>http://images.amazon.com/images/P/0192126040.0...</td>\n",
       "      <td>http://images.amazon.com/images/P/0192126040.0...</td>\n",
       "    </tr>\n",
       "    <tr>\n",
       "      <th>271359</th>\n",
       "      <td>0767409752</td>\n",
       "      <td>A Guided Tour of Rene Descartes' Meditations o...</td>\n",
       "      <td>Christopher  Biffle</td>\n",
       "      <td>2000</td>\n",
       "      <td>McGraw-Hill Humanities/Social Sciences/Languages</td>\n",
       "      <td>http://images.amazon.com/images/P/0767409752.0...</td>\n",
       "      <td>http://images.amazon.com/images/P/0767409752.0...</td>\n",
       "      <td>http://images.amazon.com/images/P/0767409752.0...</td>\n",
       "    </tr>\n",
       "  </tbody>\n",
       "</table>\n",
       "<p>271360 rows × 8 columns</p>\n",
       "</div>"
      ],
      "text/plain": [
       "              ISBN                                         Book-Title  \\\n",
       "0       0195153448                                Classical Mythology   \n",
       "1       0002005018                                       Clara Callan   \n",
       "2       0060973129                               Decision in Normandy   \n",
       "3       0374157065  Flu: The Story of the Great Influenza Pandemic...   \n",
       "4       0393045218                             The Mummies of Urumchi   \n",
       "...            ...                                                ...   \n",
       "271355  0440400988                         There's a Bat in Bunk Five   \n",
       "271356  0525447644                            From One to One Hundred   \n",
       "271357  006008667X  Lily Dale : The True Story of the Town that Ta...   \n",
       "271358  0192126040                        Republic (World's Classics)   \n",
       "271359  0767409752  A Guided Tour of Rene Descartes' Meditations o...   \n",
       "\n",
       "                 Book-Author Year-Of-Publication  \\\n",
       "0         Mark P. O. Morford                2002   \n",
       "1       Richard Bruce Wright                2001   \n",
       "2               Carlo D'Este                1991   \n",
       "3           Gina Bari Kolata                1999   \n",
       "4            E. J. W. Barber                1999   \n",
       "...                      ...                 ...   \n",
       "271355        Paula Danziger                1988   \n",
       "271356            Teri Sloat                1991   \n",
       "271357      Christine Wicker                2004   \n",
       "271358                 Plato                1996   \n",
       "271359   Christopher  Biffle                2000   \n",
       "\n",
       "                                               Publisher  \\\n",
       "0                                Oxford University Press   \n",
       "1                                  HarperFlamingo Canada   \n",
       "2                                        HarperPerennial   \n",
       "3                                   Farrar Straus Giroux   \n",
       "4                             W. W. Norton &amp; Company   \n",
       "...                                                  ...   \n",
       "271355                   Random House Childrens Pub (Mm)   \n",
       "271356                                      Dutton Books   \n",
       "271357                                HarperSanFrancisco   \n",
       "271358                           Oxford University Press   \n",
       "271359  McGraw-Hill Humanities/Social Sciences/Languages   \n",
       "\n",
       "                                              Image-URL-S  \\\n",
       "0       http://images.amazon.com/images/P/0195153448.0...   \n",
       "1       http://images.amazon.com/images/P/0002005018.0...   \n",
       "2       http://images.amazon.com/images/P/0060973129.0...   \n",
       "3       http://images.amazon.com/images/P/0374157065.0...   \n",
       "4       http://images.amazon.com/images/P/0393045218.0...   \n",
       "...                                                   ...   \n",
       "271355  http://images.amazon.com/images/P/0440400988.0...   \n",
       "271356  http://images.amazon.com/images/P/0525447644.0...   \n",
       "271357  http://images.amazon.com/images/P/006008667X.0...   \n",
       "271358  http://images.amazon.com/images/P/0192126040.0...   \n",
       "271359  http://images.amazon.com/images/P/0767409752.0...   \n",
       "\n",
       "                                              Image-URL-M  \\\n",
       "0       http://images.amazon.com/images/P/0195153448.0...   \n",
       "1       http://images.amazon.com/images/P/0002005018.0...   \n",
       "2       http://images.amazon.com/images/P/0060973129.0...   \n",
       "3       http://images.amazon.com/images/P/0374157065.0...   \n",
       "4       http://images.amazon.com/images/P/0393045218.0...   \n",
       "...                                                   ...   \n",
       "271355  http://images.amazon.com/images/P/0440400988.0...   \n",
       "271356  http://images.amazon.com/images/P/0525447644.0...   \n",
       "271357  http://images.amazon.com/images/P/006008667X.0...   \n",
       "271358  http://images.amazon.com/images/P/0192126040.0...   \n",
       "271359  http://images.amazon.com/images/P/0767409752.0...   \n",
       "\n",
       "                                              Image-URL-L  \n",
       "0       http://images.amazon.com/images/P/0195153448.0...  \n",
       "1       http://images.amazon.com/images/P/0002005018.0...  \n",
       "2       http://images.amazon.com/images/P/0060973129.0...  \n",
       "3       http://images.amazon.com/images/P/0374157065.0...  \n",
       "4       http://images.amazon.com/images/P/0393045218.0...  \n",
       "...                                                   ...  \n",
       "271355  http://images.amazon.com/images/P/0440400988.0...  \n",
       "271356  http://images.amazon.com/images/P/0525447644.0...  \n",
       "271357  http://images.amazon.com/images/P/006008667X.0...  \n",
       "271358  http://images.amazon.com/images/P/0192126040.0...  \n",
       "271359  http://images.amazon.com/images/P/0767409752.0...  \n",
       "\n",
       "[271360 rows x 8 columns]"
      ]
     },
     "execution_count": 115,
     "metadata": {},
     "output_type": "execute_result"
    }
   ],
   "source": [
    "book"
   ]
  },
  {
   "cell_type": "code",
   "execution_count": 119,
   "id": "e0b13dc8-5f64-4c1d-a94b-0eb164b373b0",
   "metadata": {},
   "outputs": [
    {
     "data": {
      "text/plain": [
       "161269    http://images.amazon.com/images/P/0843932309.0...\n",
       "Name: Image-URL-M, dtype: object"
      ]
     },
     "execution_count": 119,
     "metadata": {},
     "output_type": "execute_result"
    }
   ],
   "source": [
    "book[book['ISBN'] == '0843932309']['Image-URL-M']"
   ]
  },
  {
   "cell_type": "code",
   "execution_count": 120,
   "id": "fa2cb975-b2dd-4f60-8f27-ff1d6d2a50a7",
   "metadata": {},
   "outputs": [
    {
     "name": "stdout",
     "output_type": "stream",
     "text": [
      "HTTP 404 Error: http://images.amazon.com/images/P/0806516879.01.LZZZZZZZ.jpg\n",
      "HTTP 404 Error: http://images.amazon.com/images/P/0821769049.01.LZZZZZZZ.jpg\n",
      "HTTP 404 Error: http://images.amazon.com/images/P/1552790118.01.LZZZZZZZ.jpg\n",
      "HTTP 404 Error: http://images.amazon.com/images/P/0883684012.01.LZZZZZZZ.jpg\n",
      "HTTP 404 Error: http://images.amazon.com/images/P/1578400368.01.LZZZZZZZ.jpg\n",
      "HTTP 404 Error: http://images.amazon.com/images/P/1882606299.01.LZZZZZZZ.jpg\n"
     ]
    },
    {
     "name": "stderr",
     "output_type": "stream",
     "text": [
      "\n",
      "KeyboardInterrupt\n",
      "\n"
     ]
    }
   ],
   "source": [
    "import urllib.request\n",
    "import urllib.error\n",
    "\n",
    "user_agent = 'Mozilla/5.0 (Windows NT 10.0; Win64; x64) AppleWebKit/537.36 (KHTML, like Gecko) Chrome/96.0.4664.110 Safari/537.36'\n",
    "\n",
    "for i, row in book.iterrows():\n",
    "    if i >= 179859:\n",
    "        url = row['Image-URL-L']\n",
    "       \n",
    "        headers = {'User-Agent': user_agent}\n",
    "       \n",
    "        req = urllib.request.Request(url, headers=headers)\n",
    "        \n",
    "        try:\n",
    "            response = urllib.request.urlopen(req)\n",
    "        except urllib.error.HTTPError as e:\n",
    "            if e.code == 404:\n",
    "                print(f\"HTTP 404 Error: {url}\")\n",
    "                continue\n",
    "            else:\n",
    "                print(e.code, url)\n",
    "                continue\n",
    "        \n",
    "        with open(f\"./image/{row['ISBN']}.jpg\", \"wb\") as f:\n",
    "            f.write(response.read())"
   ]
  },
  {
   "cell_type": "code",
   "execution_count": 121,
   "id": "54509520-138e-45fe-9728-18e414d40992",
   "metadata": {},
   "outputs": [
    {
     "name": "stdout",
     "output_type": "stream",
     "text": [
      "HTTP 404 Error: http://images.amazon.com/images/P/1566250439.01.LZZZZZZZ.jpg\n",
      "HTTP 404 Error: http://images.amazon.com/images/P/0140377824.01.LZZZZZZZ.jpg\n",
      "HTTP 404 Error: http://images.amazon.com/images/P/0829417729.01.LZZZZZZZ.jpg\n",
      "HTTP 404 Error: http://images.amazon.com/images/P/0198605072.01.LZZZZZZZ.jpg\n",
      "HTTP 404 Error: http://images.amazon.com/images/P/1854872729.01.LZZZZZZZ.jpg\n",
      "HTTP 404 Error: http://images.amazon.com/images/P/006019426X.01.LZZZZZZZ.jpg\n",
      "HTTP 404 Error: http://images.amazon.com/images/P/0743233239.01.LZZZZZZZ.jpg\n",
      "HTTP 404 Error: http://images.amazon.com/images/P/0866228349.01.LZZZZZZZ.jpg\n",
      "HTTP 404 Error: http://images.amazon.com/images/P/0132997282.01.LZZZZZZZ.jpg\n"
     ]
    },
    {
     "ename": "ValueError",
     "evalue": "unknown url type: 'nan'",
     "output_type": "error",
     "traceback": [
      "\u001b[0;31m---------------------------------------------------------------------------\u001b[0m",
      "\u001b[0;31mValueError\u001b[0m                                Traceback (most recent call last)",
      "Cell \u001b[0;32mIn[121], line 12\u001b[0m\n\u001b[1;32m      8\u001b[0m url \u001b[38;5;241m=\u001b[39m row[\u001b[38;5;124m'\u001b[39m\u001b[38;5;124mImage-URL-L\u001b[39m\u001b[38;5;124m'\u001b[39m]\n\u001b[1;32m     10\u001b[0m headers \u001b[38;5;241m=\u001b[39m {\u001b[38;5;124m'\u001b[39m\u001b[38;5;124mUser-Agent\u001b[39m\u001b[38;5;124m'\u001b[39m: user_agent}\n\u001b[0;32m---> 12\u001b[0m req \u001b[38;5;241m=\u001b[39m \u001b[43murllib\u001b[49m\u001b[38;5;241;43m.\u001b[39;49m\u001b[43mrequest\u001b[49m\u001b[38;5;241;43m.\u001b[39;49m\u001b[43mRequest\u001b[49m\u001b[43m(\u001b[49m\u001b[43murl\u001b[49m\u001b[43m,\u001b[49m\u001b[43m \u001b[49m\u001b[43mheaders\u001b[49m\u001b[38;5;241;43m=\u001b[39;49m\u001b[43mheaders\u001b[49m\u001b[43m)\u001b[49m\n\u001b[1;32m     14\u001b[0m \u001b[38;5;28;01mtry\u001b[39;00m:\n\u001b[1;32m     15\u001b[0m     response \u001b[38;5;241m=\u001b[39m urllib\u001b[38;5;241m.\u001b[39mrequest\u001b[38;5;241m.\u001b[39murlopen(req)\n",
      "File \u001b[0;32m~/opt/anaconda3/envs/bookrec/lib/python3.8/urllib/request.py:328\u001b[0m, in \u001b[0;36mRequest.__init__\u001b[0;34m(self, url, data, headers, origin_req_host, unverifiable, method)\u001b[0m\n\u001b[1;32m    325\u001b[0m \u001b[38;5;28;01mdef\u001b[39;00m \u001b[38;5;21m__init__\u001b[39m(\u001b[38;5;28mself\u001b[39m, url, data\u001b[38;5;241m=\u001b[39m\u001b[38;5;28;01mNone\u001b[39;00m, headers\u001b[38;5;241m=\u001b[39m{},\n\u001b[1;32m    326\u001b[0m              origin_req_host\u001b[38;5;241m=\u001b[39m\u001b[38;5;28;01mNone\u001b[39;00m, unverifiable\u001b[38;5;241m=\u001b[39m\u001b[38;5;28;01mFalse\u001b[39;00m,\n\u001b[1;32m    327\u001b[0m              method\u001b[38;5;241m=\u001b[39m\u001b[38;5;28;01mNone\u001b[39;00m):\n\u001b[0;32m--> 328\u001b[0m     \u001b[38;5;28;43mself\u001b[39;49m\u001b[38;5;241;43m.\u001b[39;49m\u001b[43mfull_url\u001b[49m \u001b[38;5;241m=\u001b[39m url\n\u001b[1;32m    329\u001b[0m     \u001b[38;5;28mself\u001b[39m\u001b[38;5;241m.\u001b[39mheaders \u001b[38;5;241m=\u001b[39m {}\n\u001b[1;32m    330\u001b[0m     \u001b[38;5;28mself\u001b[39m\u001b[38;5;241m.\u001b[39munredirected_hdrs \u001b[38;5;241m=\u001b[39m {}\n",
      "File \u001b[0;32m~/opt/anaconda3/envs/bookrec/lib/python3.8/urllib/request.py:354\u001b[0m, in \u001b[0;36mRequest.full_url\u001b[0;34m(self, url)\u001b[0m\n\u001b[1;32m    352\u001b[0m \u001b[38;5;28mself\u001b[39m\u001b[38;5;241m.\u001b[39m_full_url \u001b[38;5;241m=\u001b[39m unwrap(url)\n\u001b[1;32m    353\u001b[0m \u001b[38;5;28mself\u001b[39m\u001b[38;5;241m.\u001b[39m_full_url, \u001b[38;5;28mself\u001b[39m\u001b[38;5;241m.\u001b[39mfragment \u001b[38;5;241m=\u001b[39m _splittag(\u001b[38;5;28mself\u001b[39m\u001b[38;5;241m.\u001b[39m_full_url)\n\u001b[0;32m--> 354\u001b[0m \u001b[38;5;28;43mself\u001b[39;49m\u001b[38;5;241;43m.\u001b[39;49m\u001b[43m_parse\u001b[49m\u001b[43m(\u001b[49m\u001b[43m)\u001b[49m\n",
      "File \u001b[0;32m~/opt/anaconda3/envs/bookrec/lib/python3.8/urllib/request.py:383\u001b[0m, in \u001b[0;36mRequest._parse\u001b[0;34m(self)\u001b[0m\n\u001b[1;32m    381\u001b[0m \u001b[38;5;28mself\u001b[39m\u001b[38;5;241m.\u001b[39mtype, rest \u001b[38;5;241m=\u001b[39m _splittype(\u001b[38;5;28mself\u001b[39m\u001b[38;5;241m.\u001b[39m_full_url)\n\u001b[1;32m    382\u001b[0m \u001b[38;5;28;01mif\u001b[39;00m \u001b[38;5;28mself\u001b[39m\u001b[38;5;241m.\u001b[39mtype \u001b[38;5;129;01mis\u001b[39;00m \u001b[38;5;28;01mNone\u001b[39;00m:\n\u001b[0;32m--> 383\u001b[0m     \u001b[38;5;28;01mraise\u001b[39;00m \u001b[38;5;167;01mValueError\u001b[39;00m(\u001b[38;5;124m\"\u001b[39m\u001b[38;5;124munknown url type: \u001b[39m\u001b[38;5;132;01m%r\u001b[39;00m\u001b[38;5;124m\"\u001b[39m \u001b[38;5;241m%\u001b[39m \u001b[38;5;28mself\u001b[39m\u001b[38;5;241m.\u001b[39mfull_url)\n\u001b[1;32m    384\u001b[0m \u001b[38;5;28mself\u001b[39m\u001b[38;5;241m.\u001b[39mhost, \u001b[38;5;28mself\u001b[39m\u001b[38;5;241m.\u001b[39mselector \u001b[38;5;241m=\u001b[39m _splithost(rest)\n\u001b[1;32m    385\u001b[0m \u001b[38;5;28;01mif\u001b[39;00m \u001b[38;5;28mself\u001b[39m\u001b[38;5;241m.\u001b[39mhost:\n",
      "\u001b[0;31mValueError\u001b[0m: unknown url type: 'nan'"
     ]
    }
   ],
   "source": [
    "import urllib.request\n",
    "import urllib.error\n",
    "\n",
    "user_agent = 'Mozilla/5.0 (Windows NT 10.0; Win64; x64) AppleWebKit/537.36 (KHTML, like Gecko) Chrome/96.0.4664.110 Safari/537.36'\n",
    "\n",
    "for i, row in book.iterrows():\n",
    "    if i >= 191277:\n",
    "        url = row['Image-URL-L']\n",
    "       \n",
    "        headers = {'User-Agent': user_agent}\n",
    "       \n",
    "        req = urllib.request.Request(url, headers=headers)\n",
    "        \n",
    "        try:\n",
    "            response = urllib.request.urlopen(req)\n",
    "        except urllib.error.HTTPError as e:\n",
    "            if e.code == 404:\n",
    "                print(f\"HTTP 404 Error: {url}\")\n",
    "                continue\n",
    "            else:\n",
    "                print(e.code, url)\n",
    "                continue\n",
    "        \n",
    "        with open(f\"./image/{row['ISBN']}.jpg\", \"wb\") as f:\n",
    "            f.write(response.read())"
   ]
  },
  {
   "cell_type": "code",
   "execution_count": 132,
   "id": "33024be5-9b34-4f9c-b163-06a53f64e4b5",
   "metadata": {},
   "outputs": [
    {
     "name": "stdout",
     "output_type": "stream",
     "text": [
      "URL is NaN.\n"
     ]
    },
    {
     "name": "stderr",
     "output_type": "stream",
     "text": [
      "\n",
      "KeyboardInterrupt\n",
      "\n"
     ]
    }
   ],
   "source": [
    "import urllib.request\n",
    "import urllib.error\n",
    "import pandas as pd\n",
    "\n",
    "user_agent = 'Mozilla/5.0 (Windows NT 10.0; Win64; x64) AppleWebKit/537.36 (KHTML, like Gecko) Chrome/96.0.4664.110 Safari/537.36'\n",
    "\n",
    "for i, row in book.iterrows():\n",
    "    if i >= 209262:\n",
    "        url = row['Image-URL-L']\n",
    "        if pd.notna(url):\n",
    "            headers = {'User-Agent': user_agent}\n",
    "            \n",
    "            try:\n",
    "                req = urllib.request.Request(url, headers=headers)\n",
    "                response = urllib.request.urlopen(req)\n",
    "            except urllib.error.HTTPError as e:\n",
    "                if e.code == 404:\n",
    "                    print(f\"HTTP 404 Error: {url}\")\n",
    "                    continue\n",
    "                else:\n",
    "                    print(e.code, url)\n",
    "                    continue\n",
    "            except ValueError as e:\n",
    "                print(f\"ValueError: {e} for URL: {url}\")\n",
    "                continue\n",
    "            \n",
    "            if response is not None:\n",
    "                with open(f\"./image/{row['ISBN']}.jpg\", \"wb\") as f:\n",
    "                    f.write(response.read())\n",
    "        else:\n",
    "            print(\"URL is NaN.\")\n"
   ]
  },
  {
   "cell_type": "code",
   "execution_count": 130,
   "id": "e50f8ed4-5a78-461b-bd49-b17f4ea93ca2",
   "metadata": {},
   "outputs": [
    {
     "data": {
      "text/plain": [
       "ISBN                                                          0449216160\n",
       "Book-Title                               What to Do When He Won't Change\n",
       "Book-Author                                                 Dan J. Kiley\n",
       "Year-Of-Publication                                                 1992\n",
       "Publisher                                                  Fawcett Books\n",
       "Image-URL-S            http://images.amazon.com/images/P/0449216160.0...\n",
       "Image-URL-M            http://images.amazon.com/images/P/0449216160.0...\n",
       "Image-URL-L            http://images.amazon.com/images/P/0449216160.0...\n",
       "Name: 209259, dtype: object"
      ]
     },
     "execution_count": 130,
     "metadata": {},
     "output_type": "execute_result"
    }
   ],
   "source": [
    "book.iloc[209259]"
   ]
  },
  {
   "cell_type": "code",
   "execution_count": 133,
   "id": "09384fdb-db3b-472f-8249-df4cc9a31e4d",
   "metadata": {},
   "outputs": [
    {
     "name": "stdout",
     "output_type": "stream",
     "text": [
      "HTTP 404 Error: http://images.amazon.com/images/P/0898797993.01.LZZZZZZZ.jpg\n",
      "HTTP 404 Error: http://images.amazon.com/images/P/1568491719.01.LZZZZZZZ.jpg\n",
      "HTTP 404 Error: http://images.amazon.com/images/P/1580628419.01.LZZZZZZZ.jpg\n",
      "HTTP 404 Error: http://images.amazon.com/images/P/0446602035.01.LZZZZZZZ.jpg\n",
      "URL is NaN.\n",
      "HTTP 404 Error: http://images.amazon.com/images/P/0689833679.01.LZZZZZZZ.jpg\n",
      "URL is NaN.\n",
      "HTTP 404 Error: http://images.amazon.com/images/P/0590037129.01.LZZZZZZZ.jpg\n",
      "HTTP 404 Error: http://images.amazon.com/images/P/0740718789.01.LZZZZZZZ.jpg\n",
      "HTTP 404 Error: http://images.amazon.com/images/P/1889307092.01.LZZZZZZZ.jpg\n",
      "HTTP 404 Error: http://images.amazon.com/images/P/1577489713.01.LZZZZZZZ.jpg\n",
      "HTTP 404 Error: http://images.amazon.com/images/P/0764170589.01.LZZZZZZZ.jpg\n",
      "HTTP 404 Error: http://images.amazon.com/images/P/0140182934.01.LZZZZZZZ.jpg\n",
      "HTTP 404 Error: http://images.amazon.com/images/P/0970238339.01.LZZZZZZZ.jpg\n",
      "HTTP 404 Error: http://images.amazon.com/images/P/0689810229.01.LZZZZZZZ.jpg\n",
      "HTTP 404 Error: http://images.amazon.com/images/P/0684866099.01.LZZZZZZZ.jpg\n"
     ]
    },
    {
     "name": "stderr",
     "output_type": "stream",
     "text": [
      "\n",
      "KeyboardInterrupt\n",
      "\n"
     ]
    }
   ],
   "source": [
    "import urllib.request\n",
    "import urllib.error\n",
    "import pandas as pd\n",
    "\n",
    "user_agent = 'Mozilla/5.0 (Windows NT 10.0; Win64; x64) AppleWebKit/537.36 (KHTML, like Gecko) Chrome/96.0.4664.110 Safari/537.36'\n",
    "\n",
    "for i, row in book.iterrows():\n",
    "    if i >= 210021:\n",
    "        url = row['Image-URL-L']\n",
    "        if pd.notna(url):\n",
    "            headers = {'User-Agent': user_agent}\n",
    "            \n",
    "            try:\n",
    "                req = urllib.request.Request(url, headers=headers)\n",
    "                response = urllib.request.urlopen(req)\n",
    "            except urllib.error.HTTPError as e:\n",
    "                if e.code == 404:\n",
    "                    print(f\"HTTP 404 Error: {url}\")\n",
    "                    continue\n",
    "                else:\n",
    "                    print(e.code, url)\n",
    "                    continue\n",
    "            except ValueError as e:\n",
    "                print(f\"ValueError: {e} for URL: {url}\")\n",
    "                continue\n",
    "            \n",
    "            if response is not None:\n",
    "                with open(f\"./image/{row['ISBN']}.jpg\", \"wb\") as f:\n",
    "                    f.write(response.read())\n",
    "        else:\n",
    "            print(\"URL is NaN.\")"
   ]
  },
  {
   "cell_type": "code",
   "execution_count": 135,
   "id": "6ceb0576-1648-4d79-95c0-6212578d8a14",
   "metadata": {},
   "outputs": [
    {
     "name": "stdout",
     "output_type": "stream",
     "text": [
      "HTTP 404 Error: http://images.amazon.com/images/P/0684866099.01.LZZZZZZZ.jpg\n",
      "HTTP 404 Error: http://images.amazon.com/images/P/0676908829.01.LZZZZZZZ.jpg\n",
      "HTTP 404 Error: http://images.amazon.com/images/P/0849958199.01.LZZZZZZZ.jpg\n",
      "HTTP 404 Error: http://images.amazon.com/images/P/0141309202.01.LZZZZZZZ.jpg\n",
      "HTTP 404 Error: http://images.amazon.com/images/P/0671025139.01.LZZZZZZZ.jpg\n",
      "HTTP 404 Error: http://images.amazon.com/images/P/0674242416.01.LZZZZZZZ.jpg\n",
      "HTTP 404 Error: http://images.amazon.com/images/P/0786705159.01.LZZZZZZZ.jpg\n",
      "HTTP 404 Error: http://images.amazon.com/images/P/1862042209.01.LZZZZZZZ.jpg\n",
      "HTTP 404 Error: http://images.amazon.com/images/P/0345467612.01.LZZZZZZZ.jpg\n",
      "HTTP 404 Error: http://images.amazon.com/images/P/0965306399.01.LZZZZZZZ.jpg\n",
      "HTTP 404 Error: http://images.amazon.com/images/P/0141306084.01.LZZZZZZZ.jpg\n",
      "HTTP 404 Error: http://images.amazon.com/images/P/0764225227.01.LZZZZZZZ.jpg\n",
      "HTTP 404 Error: http://images.amazon.com/images/P/0449704297.01.LZZZZZZZ.jpg\n",
      "HTTP 404 Error: http://images.amazon.com/images/P/1557738009.01.LZZZZZZZ.jpg\n",
      "HTTP 404 Error: http://images.amazon.com/images/P/1854712969.01.LZZZZZZZ.jpg\n",
      "HTTP 404 Error: http://images.amazon.com/images/P/0152928782.01.LZZZZZZZ.jpg\n",
      "HTTP 404 Error: http://images.amazon.com/images/P/0821764179.01.LZZZZZZZ.jpg\n",
      "HTTP 404 Error: http://images.amazon.com/images/P/1883061059.01.LZZZZZZZ.jpg\n",
      "HTTP 404 Error: http://images.amazon.com/images/P/1880913089.01.LZZZZZZZ.jpg\n"
     ]
    }
   ],
   "source": [
    "import urllib.request\n",
    "import urllib.error\n",
    "import pandas as pd\n",
    "\n",
    "user_agent = 'Mozilla/5.0 (Windows NT 10.0; Win64; x64) AppleWebKit/537.36 (KHTML, like Gecko) Chrome/96.0.4664.110 Safari/537.36'\n",
    "\n",
    "for i, row in book.iterrows():\n",
    "    if i >= 232823:\n",
    "        url = row['Image-URL-L']\n",
    "        if pd.notna(url):\n",
    "            headers = {'User-Agent': user_agent}\n",
    "            \n",
    "            try:\n",
    "                req = urllib.request.Request(url, headers=headers)\n",
    "                response = urllib.request.urlopen(req)\n",
    "            except urllib.error.HTTPError as e:\n",
    "                if e.code == 404:\n",
    "                    print(f\"HTTP 404 Error: {url}\")\n",
    "                    continue\n",
    "                else:\n",
    "                    print(e.code, url)\n",
    "                    continue\n",
    "            except ValueError as e:\n",
    "                print(f\"ValueError: {e} for URL: {url}\")\n",
    "                continue\n",
    "            \n",
    "            if response is not None:\n",
    "                with open(f\"./image/{row['ISBN']}.jpg\", \"wb\") as f:\n",
    "                    f.write(response.read())\n",
    "        else:\n",
    "            print(\"URL is NaN.\")"
   ]
  },
  {
   "cell_type": "code",
   "execution_count": null,
   "id": "c2e6c904-1d1a-4577-bb91-ba00aabc26ed",
   "metadata": {},
   "outputs": [],
   "source": []
  },
  {
   "cell_type": "code",
   "execution_count": null,
   "id": "6d838acb",
   "metadata": {},
   "outputs": [],
   "source": []
  }
 ],
 "metadata": {
  "kernelspec": {
   "display_name": "bookRec",
   "language": "python",
   "name": "bookrec"
  },
  "language_info": {
   "codemirror_mode": {
    "name": "ipython",
    "version": 3
   },
   "file_extension": ".py",
   "mimetype": "text/x-python",
   "name": "python",
   "nbconvert_exporter": "python",
   "pygments_lexer": "ipython3",
   "version": "3.8.18"
  }
 },
 "nbformat": 4,
 "nbformat_minor": 5
}
